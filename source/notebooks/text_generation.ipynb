{
  "nbformat": 4,
  "nbformat_minor": 0,
  "metadata": {
    "accelerator": "GPU",
    "colab": {
      "name": "text_generation.ipynb",
      "provenance": []
    },
    "kernelspec": {
      "display_name": "Python 3",
      "language": "python",
      "name": "python3"
    },
    "language_info": {
      "codemirror_mode": {
        "name": "ipython",
        "version": 3
      },
      "file_extension": ".py",
      "mimetype": "text/x-python",
      "name": "python",
      "nbconvert_exporter": "python",
      "pygments_lexer": "ipython3",
      "version": "3.6.8"
    }
  },
  "cells": [
    {
      "cell_type": "markdown",
      "metadata": {
        "colab_type": "text",
        "id": "vfD07MBXKROC"
      },
      "source": [
        "# Thai Wiki Language Model for Text Generation"
      ]
    },
    {
      "cell_type": "markdown",
      "metadata": {
        "colab_type": "text",
        "id": "BunBriX0KROF"
      },
      "source": [
        "This notebook details how you can use pretrained language model on [Thai Wikipedia Dump](https://dumps.wikimedia.org/thwiki/latest/thwiki-latest-pages-articles.xml.bz2) to generate texts."
      ]
    },
    {
      "cell_type": "code",
      "metadata": {
        "colab_type": "code",
        "id": "O8IVDoE9KROG",
        "colab": {}
      },
      "source": [
        "# #uncomment if you are running from google colab\n",
        "# !pip install sklearn_crfsuite\n",
        "# !pip install https://github.com/PyThaiNLP/pythainlp/archive/dev.zip\n",
        "# !pip install fastai\n",
        "# !pip install emoji"
      ],
      "execution_count": 0,
      "outputs": []
    },
    {
      "cell_type": "code",
      "metadata": {
        "colab_type": "code",
        "id": "DvwUYZGmKROK",
        "outputId": "87465295-1fea-49c0-bb1b-6bb31a6f5763",
        "colab": {
          "base_uri": "https://localhost:8080/",
          "height": 173
        }
      },
      "source": [
        "import pandas as pd\n",
        "import numpy as np\n",
        "from ast import literal_eval\n",
        "from tqdm import tqdm_notebook\n",
        "from collections import Counter\n",
        "import re\n",
        "\n",
        "#viz\n",
        "import matplotlib.pyplot as plt\n",
        "import seaborn as sns\n",
        "\n",
        "#fastai\n",
        "import fastai\n",
        "from fastai.text import *\n",
        "from fastai.callbacks import CSVLogger\n",
        "\n",
        "#pythainlp\n",
        "from pythainlp.ulmfit import *"
      ],
      "execution_count": 4,
      "outputs": [
        {
          "output_type": "stream",
          "text": [
            "/usr/local/lib/python3.6/dist-packages/statsmodels/tools/_testing.py:19: FutureWarning: pandas.util.testing is deprecated. Use the functions in the public API at pandas.testing instead.\n",
            "  import pandas.util.testing as tm\n"
          ],
          "name": "stderr"
        },
        {
          "output_type": "stream",
          "text": [
            "Corpus: wiki_lm_lstm\n",
            "- Downloading: wiki_lm_lstm 0.32\n"
          ],
          "name": "stdout"
        },
        {
          "output_type": "stream",
          "text": [
            "100%|██████████| 1050919089/1050919089 [00:31<00:00, 32904377.09it/s]\n"
          ],
          "name": "stderr"
        },
        {
          "output_type": "stream",
          "text": [
            "Corpus: wiki_itos_lstm\n",
            "- Downloading: wiki_itos_lstm 0.32\n"
          ],
          "name": "stdout"
        },
        {
          "output_type": "stream",
          "text": [
            "100%|██████████| 1530484/1530484 [00:00<00:00, 16327446.42it/s]\n"
          ],
          "name": "stderr"
        }
      ]
    },
    {
      "cell_type": "code",
      "metadata": {
        "colab_type": "code",
        "id": "PnQcr3gWKROS",
        "colab": {
          "base_uri": "https://localhost:8080/",
          "height": 51
        },
        "outputId": "e84874a2-e378-4d59-d247-ef2c8a86398c"
      },
      "source": [
        "#get dummy data\n",
        "imdb = untar_data(URLs.IMDB_SAMPLE)\n",
        "dummy_df = pd.read_csv(imdb/'texts.csv')\n",
        "\n",
        "#get vocab\n",
        "thwiki_itos = pickle.load(open(THWIKI_LSTM['itos_fname'],'rb'))\n",
        "thwiki_vocab = fastai.text.transform.Vocab(thwiki_itos)\n",
        "\n",
        "#dummy databunch\n",
        "tt = Tokenizer(tok_func = ThaiTokenizer, lang = 'th', pre_rules = pre_rules_th, post_rules=post_rules_th)\n",
        "processor = [TokenizeProcessor(tokenizer=tt, chunksize=10000, mark_fields=False),\n",
        "            NumericalizeProcessor(vocab=thwiki_vocab, max_vocab=60000, min_freq=3)]\n",
        "data_lm = (TextList.from_df(dummy_df, imdb, cols=['text'], processor=processor)\n",
        "    .random_split_by_pct(0.2)\n",
        "    .label_for_lm()\n",
        "    .databunch(bs=64))\n",
        "\n",
        "data_lm.sanity_check()"
      ],
      "execution_count": 7,
      "outputs": [
        {
          "output_type": "stream",
          "text": [
            "/usr/local/lib/python3.6/dist-packages/fastai/data_block.py:217: UserWarning: `random_split_by_pct` is deprecated, please use `split_by_rand_pct`.\n",
            "  warn(\"`random_split_by_pct` is deprecated, please use `split_by_rand_pct`.\")\n"
          ],
          "name": "stderr"
        },
        {
          "output_type": "display_data",
          "data": {
            "text/html": [
              ""
            ],
            "text/plain": [
              "<IPython.core.display.HTML object>"
            ]
          },
          "metadata": {
            "tags": []
          }
        },
        {
          "output_type": "display_data",
          "data": {
            "text/html": [
              ""
            ],
            "text/plain": [
              "<IPython.core.display.HTML object>"
            ]
          },
          "metadata": {
            "tags": []
          }
        }
      ]
    },
    {
      "cell_type": "code",
      "metadata": {
        "colab_type": "code",
        "id": "VJI1MZzvKROW",
        "outputId": "aa0926f0-496a-4a01-bfb6-968c0d22d6f3",
        "colab": {
          "base_uri": "https://localhost:8080/",
          "height": 34
        }
      },
      "source": [
        "#check vocab size\n",
        "len(data_lm.vocab.itos)"
      ],
      "execution_count": 8,
      "outputs": [
        {
          "output_type": "execute_result",
          "data": {
            "text/plain": [
              "60005"
            ]
          },
          "metadata": {
            "tags": []
          },
          "execution_count": 8
        }
      ]
    },
    {
      "cell_type": "code",
      "metadata": {
        "colab_type": "code",
        "id": "B9DJVRZ-KROb",
        "outputId": "b2574085-2265-443b-c370-5802a3a3efb9",
        "colab": {
          "base_uri": "https://localhost:8080/",
          "height": 1000
        }
      },
      "source": [
        "config = dict(emb_sz=400, n_hid=1550, n_layers=4, pad_token=1, qrnn=False, tie_weights=True, out_bias=True,\n",
        "             output_p=0.25, hidden_p=0.1, input_p=0.2, embed_p=0.02, weight_p=0.15)\n",
        "trn_args = dict(drop_mult=0.9, clip=0.12, alpha=2, beta=1)\n",
        "\n",
        "learn = language_model_learner(data_lm, AWD_LSTM, config=config, pretrained=False, **trn_args)\n",
        "\n",
        "#load pretrained models\n",
        "learn.load_pretrained(**THWIKI_LSTM)"
      ],
      "execution_count": 9,
      "outputs": [
        {
          "output_type": "execute_result",
          "data": {
            "text/plain": [
              "LanguageLearner(data=TextLMDataBunch;\n",
              "\n",
              "Train: LabelList (800 items)\n",
              "x: LMTextList\n",
              "xxbos   xxunk !   meg   ryan   doesn ' t   even   look   her   usual   xxunk   xxunk   self   in   this ,   which   xxunk   makes   me   xxunk   her   xxunk   xxunk   acting   xxunk .   hard   to   believe   she   was   the   producer   on   this   dog .   plus   kevin   xxunk :   what   kind   of   suicide   trip   has   his   career   been   on ?   xxunk xxunk   xxunk xxunk   finally   this   was   directed   by   the   guy   who   did   big   chill ?   must   be   a   replay   of   xxunk   -   hollywood   style .   xxunk !,xxbos   every   once   in   a   long   while   a   movie   will   come   along   that   will   be   so   xxunk   that   i   feel   xxunk   to   xxunk   people .   if   i   labor   all   my   days   and   i   can   save   but   one   soul   from   xxunk   this   movie ,   how   great   will   be   my   joy .   \n",
              "   \n",
              "   where   to   begin   my   xxunk   of   pain .   for   xxunk ,   there   was   a   musical   xxunk   every   five   minutes .   there   was   no   character   development .   every   character   was   a   stereotype .   we   had   xxunk   guy ,   fat   guy   who   xxunk   xxunk ,   xxunk   foreign   guy ,   etc .   the   script   xxunk   as   if   it   were   being   written   as   the   movie   was   being   shot .   the   production   value   was   so   xxunk   low   that   it   xxunk   like   i   was   xxunk   a   junior   high   video   presentation .   have   the   directors ,   producers ,   etc .   ever   even   seen   a   movie   before ?   xxunk   is   getting   worse   and   worse   with   every   new   entry .   the   concept   for   this   movie   xxunk   so   funny .   how   could   you   go   wrong   with   gary   coleman   and   a   xxunk   of   xxunk   xxunk   actors .   but   trust   me   when   i   say   this ,   things   went   wrong ,   very   wrong .,xxbos   name   just   says   it   all .   i   xxunk   this   movie   with   my   dad   when   it   came   out   and   having   xxunk   in   korea   he   had   great   xxunk   for   the   man .   the   xxunk   thing   about   this   film   is   that   it   only   xxunk   on   a   short   period   of   the   man ' s   life   -   xxunk   enough   the   man ' s   entire   life   would   have   made   such   an   epic   xxunk   that   it   is   xxunk   to   imagine   the   cost   for   production .   \n",
              "   \n",
              "   some   xxunk   xxunk   to   the   xxunk   xxunk   about   the   man ,   which   are   cheap   xxunk .   the   theme   of   the   movie   \" duty ,   honor ,   country \"   are   not   just   xxunk   words   xxunk   from   the   lips   of   a   xxunk   officer   -   it   is   the   deep   declaration   of   one   man ' s   total   xxunk   to   his   country .   \n",
              "   \n",
              "   xxunk   peck   being   the   liberal   that   he   was   xxunk   a   better   understanding   of   the   man .   he   does   a   great   job   xxunk   the   fearless   general   xxunk   with   the   humane   side   of   the   man .,xxbos   from   the   start ,   you   know   how   this   movie   will   end .   it ' s   so   full   of   clich é s   your   typical   xxunk   member   will   not   even   like   this   movie .   i   give   it   2   out   of   10,   only   because   of   the   acting   of   william   benton .   i   can ' t   believe   people   xxunk   6 +   for   this   movie .   it ' s   so   biased   towards   a   ' certain   point   of   view '   ( once   a   thief ).   people   xxunk ' t   born   bad .   neither   are   they   born   good .   they   are   born   with   a   clean   slate .   it ' s   society ,   parents   and   education   what   makes   them   who   they   are .   and   if   they   take   the   wrong   turn ,   somewhere   down   the   line ,   it   xxunk   isn ' t   going   to   be   the   american   xxunk   system   that   gets   them   back   on   track !   xxunk ,   xxunk   this   movie   like   the   xxunk .   i   bet   you   have   better   things   to   do   with   your   time   than   waste   it   on   this   piece   of   xxunk .   \n",
              "   \n",
              "  ,xxbos   there   were   a   lot   of   truly   great   horror   movies   produced   in   the   xxunk   -   but   this   film   xxunk   isn ' t   one   of   them !   it ' s   a   shame   the   child   isn ' t   better   as   it   works   from   a   xxunk   idea   that   takes   in   a   couple   of   xxunk   successful   horror   xxunk .   we   have   the   idea   of   a   xxunk   child ,   which   xxunk   so   well   in   classic   films   such   as   the   bad   seed   and   then   we   have   the   central   zombie   theme ,   which   of   course   has   been   the   xxunk   of   many   a   successful   horror   movie .   the   plot   is   xxunk   this :   young   girl   xxunk   a   load   of   people   for   the   death   of   her   mother ,   so   she   goes   to   the   xxunk   and   xxunk   the   dead   to   get   revenge   ( as   you   do ).   this   is   all   well   and   good ,   xxunk   for   the   fact   that   it ' s   xxunk !   nothing   happens   for   most   of   the   film ,   and   although   it   does   pick   up   at   the   end   with   some   nice   xxunk ;   it ' s   not   enough   of   a   finale   to   xxunk   xxunk   through   the   rest   of   it .   the   film   was   xxunk   shot   on   a   budget   as   the   xxunk   look   cheap   and   all   the   actors   are   xxunk .   there ' s   really   not   much   i   can   say   about   the   film   overall   as   there   isn ' t   much   to   it .   the   child   is   a   xxunk   xxunk   horror   xxunk   and   i   xxunk   don ' t   xxunk   it .\n",
              "y: LMLabelList\n",
              ",,,,\n",
              "Path: /root/.fastai/data/imdb_sample;\n",
              "\n",
              "Valid: LabelList (200 items)\n",
              "x: LMTextList\n",
              "xxbos   because   ' cruel '   would   be   the   only   word   in   xxunk   to   xxunk   the   xxunk   of   these   film   xxunk .   where   do   you   even   begin ?   in   a   xxunk   of   b * xxunk ,   i ' m   going   to   start   with   the   xxunk   acting   of   xxunk   everybody   in   this   movie .   scratch   that .   xxunk   does   not   belong   in   that   xxunk .   i   can ' t   think   of   even   one   character   who   was   xxunk   well .   although ,   in   all   xxunk ,   it   would   be   xxunk   impossible   to   xxunk   these   zero   dimensional   characters   in   a   successful   way .   still ,   the   girl   who   played   katherine   ( whose   name   i   xxunk   don ' t   include   -   i ' m   xxunk   she   doesn ' t   xxunk )   remains   one   of   the   worst   actors   i ' ve   ever   seen ,   only   xxunk   by   the   guy   who   played   sebastian .   the   story   was   god   xxunk .   it   xxunk   to   mirror   the   xxunk   that   was   the   first   one   but   failed   in   so   many   ways .   pretty   much   every   part   of   it   was   xxunk   -   though   i   will   xxunk   ( xxunk )   that   the   plot   twist   was   xxunk   good   it   its   surprise .   and   the   ending   was   at   least   slightly   xxunk .   but   this   film   is   up   there   with   the   worst   i ' ve   seen .   don ' t   watch   it .   just   don ' t .   there   is   xxunk   no   value   in   xxunk   it .   none .   it   only   takes   away   the   xxunk   of   the   first .,xxbos   this   film   is   based   on   the   novel   by   john   xxunk .   could   someone   please   tell   me   why ?   i   see   xxunk   no   reason   why   this   fine   book   should   be   adapted   in   this   way .   if   you   want   to   make   a   romantic   xxunk   hollywood   production   with   colin   xxunk   and   xxunk   xxunk ,   then   how   could   you   xxunk   make   a   connection   to   ask   the   dust   ( the   novel xxunk   xxunk   if   you   wanted   to   make   this   story   into   a   film ,   then   why   would   you   want   to   make   it   into   a   romantic   xxunk   hollywood   production   with   colin   xxunk   and   xxunk   xxunk ?   i   don ' t   get   it .   \n",
              "   \n",
              "   the   adaptation   of   the   story   is   xxunk   made ,   and   if   you   have   read   the   book   and   xxunk   it ,   i ' m   almost   sure   you   won ' t   like   what   xxunk   did   with   it .   \n",
              "   \n",
              "   in   the   beginning   of   the   film   you ' ll   maybe   find   the   casting   odd ,   the   acting   bad   and   the   cinematography   just   a   bit   xxunk .   but   you   hope   for   the   best .   i   really   xxunk   a   lot   during   this   film .   i   xxunk   wanted   it   to   be   good .   but   it   only   gets   worse ,   and   it   is   as   simple   as   that :   xxunk   you   read   xxunk   novel   or   not ,   this   is   not   a   good   film .   just   another   romantic   xxunk   hollywood   production   combined   with   bad   acting ,   xxunk   of   structure   and   -   of   course   -   xxunk   of   xxunk   of   colin   xxunk   naked   xxunk .   \n",
              "   \n",
              "   i   could   xxunk   a   lot   more   about   this   film ,   but   why   waste   my   time .   i ' ve   seen   it .   alright .   i   had   to   see   it ,   because   i   like   the   book   so   much   and   was   xxunk .   and   i ' m   very   xxunk .   \n",
              "   \n",
              "   1   /   10   is   for   colin ' s   sweet   little   xxunk   in   the   end   of   the   film .   so   sweet xxunk   had   he   xxunk   it   the   whole   time   through ,   i ' d   given   it   2   /   10.,xxbos   well ,   i   xxunk   the   good   news   concerning   william   xxunk ' s   2001   opus ,   \" the   xxunk   avenger ,\"   is   that   it   xxunk   to   xxunk   three   of   xxunk   meyer ' s   xxunk   xxunk   xxunk ,   xxunk   and   raven   de   la   xxunk   one   picture .   ( i   can   only   xxunk   that   xxunk   xxunk ,   xxunk   xxunk   and   xxunk   xxunk   were   xxunk   the   week   they   shot   this   thing xxunk or   else   xxunk   to   see   a   copy   of   the   script   in   advance )   the   bad   news ,   though   ( and   there ' s   xxunk   of   it ),   is   that   this   xxunk   it   can   even   be   called   that ,   having   been   shot   straight   to   xxunk   a   complete   xxunk ,   a   total   xxunk ,   an   xxunk   xxunk ,   an   absolute   xxunk ,   and   truly   one   of   the   worst   pictures   that   i   have   ever   seen .   look   no   further   for   the   xxunk   xxunk   movie   ever   made !   the   plot   here ,   such   as   it   is ,   xxunk   with   xxunk   xxunk   xxunk   after   xxunk   the   rare   xxunk   plant   in   south   america   to   cure   her   xxunk   cancer   ( oy ),   and   later   xxunk   a   trio   of   xxunk   bikini   xxunk   back   in   l . a .   too   bad   that   every   xxunk   xxunk   xxunk   xxunk   out   falls   xxunk   ( you   should   xxunk   the   expression )   flat ,   that   there   is   zero   xxunk   xxunk   in   the   film   at   all   ( other   than   some   old   photos   of   xxunk   in   her   xxunk ),   and   that   some   xxunk   cream   and   a   xxunk   xxunk   are   the   sum   total   of   the   special   fx .   the   meyer   xxunk   here   are   a   bit   long   in   the   tooth   /   xxunk   in   the   chest ,   to   put   it   xxunk ,   although   xxunk   dawn   thomas ,   as   bikini   girl   xxunk   xxunk   ,   does   xxunk   to ,   xxunk ,   stand   out   xxunk .   so   why   have   i   given   this   xxunk ,   xxunk ,   failed   xxunk   of   a   movie   2   stars   instead   of   1 ?   to   be   xxunk :   joe   bob   xxunk .   his   xxunk   xxunk   in   the   special   features   of   the   dvd   i   just   xxunk   is   xxunk   xxunk ,   xxunk   when   he   xxunk   out   around   100   xxunk   for   the   word   \" xxunk \"   from   the   xxunk +   on   his   web   site ' s   \" canonical   xxunk   list .\"   the   man   is   a   national   treasure ,   and   he   xxunk   to   upgrade   this   xxunk   of   a   disc   to   coaster   status !,xxbos   one   of   the   worst   movies   i   ever   saw .   my   only   thought   was :   \" how   can   i   get   my   money   back   from   hollywood   video \".   this   is   no   way   worth   four   xxunk ,   or   any   xxunk .   i   think   it   was   an   attempt   to   rip   off   the   mexican ,   or   xxunk   diesel ' s   movies ,   but   it   failed   xxunk   to   do   this .   \n",
              "   \n",
              "   the   acting   was   xxunk ,   i   xxunk   sorry   for   the   actors   that   they   xxunk ' t   find   something   better   to   do   with   their   time .   the   story   was   xxunk .   we   were   calling   out   the   lines   ahead   of   the   actors ,   it   was   so   xxunk .   the   mexican   accent   of   the   leading   lady   was   xxunk   xxunk ,   worse   than   a   cartoon .   \n",
              "   \n",
              "   skip   it .,xxbos   this   is   the   last   of   four   xxunk   from   france   i ' ve   scheduled   for   viewing   during   this   christmas   season :   the   others   ( in   order   of   viewing )   were   the   xxunk   the   black   tulip   ( 1964 ;   from   the   same   director   as   this   one   but   not   xxunk   as   good ),   the   xxunk   effective   lady   oscar   ( 1979 ;   which   had   xxunk   as   a   japanese   manga )   and   the   xxunk   xxunk   ( 1962 ).   xxunk ,   i   had   xxunk   this   one   not   too   long   ago   on   xxunk   italian   tv   and   recall   not   being   xxunk   xxunk   over   by   it ,   so   that   i   was   xxunk   xxunk   by   how   much   i   xxunk   it   this   time   around   ( also   bearing   in   mind   the   xxunk   xxunk   of   xxunk   shown   towards   the   film   here   and   xxunk   when   it   was   first   announced   as   an   xxunk   dvd   release   from   xxunk ).   \n",
              "   \n",
              "   xxunk ,   xxunk   la   xxunk   has   xxunk   a   bit   in   common   with   the   xxunk   xxunk :   not   just   cast   and   crew   members   ( producers   georges   xxunk   and   alexandre   xxunk ,   xxunk   christian   xxunk ,   actor   noel   xxunk )   but   xxunk   as   well   xxunk   in   fact ,   the   hero   is   a   xxunk   soldier   ( xxunk   xxunk ' s   xxunk   had   also   had   a   brief   military   spell )   who ' s   loved   by   a   xxunk   girl   ( in   this   case ,   gypsy   gina   xxunk )   while   he ' s   himself   xxunk   by   an   impossible   love   ( here ,   it ' s   none   other   than   the   king ' s   daughter xxunk   as   in   the   later   film ,   too ,   xxunk   ( an   xxunk   cast   gerard   xxunk   who ,   xxunk ,   is   so   full   of   life   here   that   one   xxunk   it   hard   to   believe   that   he   would   be   xxunk   down   by   cancer   within   7   years '   time )   is   xxunk   by   two   xxunk   yet   xxunk   men   ( one   of   them   is   xxunk   his   superior   officer   and   the   heroine ' s   own   father )   and   xxunk   by   an   xxunk   figure   within   his   own   xxunk   ( the   xxunk   xxunk ,   with   whom   the   hero   xxunk   xxunk   in   a   rooftop   duel   since   he   too   has   xxunk   designs   on   the   gypsy   girl xxunk   for   the   record ,   xxunk   will   xxunk   philippe   in   her   next   film ,   rene   xxunk ' s   xxunk   romantic   fantasy   les   xxunk   de   xxunk   ( 1952 ).   \n",
              "   \n",
              "   xxunk   xxunk   to   be   a   big   xxunk   hit   on   its   xxunk   and   even   xxunk   a   xxunk   ( but   xxunk )   best   direction   award   at   cannes   over   more   xxunk   films   like   an   american   in   paris   ( 1951 ),   detective   story   ( 1951 ),   xxunk ,   xxunk   d .   and   viva   xxunk !   in   fact ,   its   popularity   xxunk   its   xxunk   in   a   xxunk   version   ( xxunk   for   the   benefit   of   xxunk   who   xxunk ' t   touch   a   xxunk   product   with   a   xxunk   pole )   and   the   xxunk   dvd   itself   xxunk   a   sample   from   this   xxunk ;   being   xxunk   a   xxunk   title ,   there ' s   also   the   xxunk   choice   of   an   xxunk   soundtrack   but ,   even   if   these   xxunk   not   xxunk   xxunk   to   sit   through   xxunk ,   when   all   is   said   and   done ,   there ' s   simply   no   xxunk   for   the   original !   \n",
              "   \n",
              "   xxunk   la   xxunk   ( a   xxunk   given   the   hero   by   a   young   xxunk   page   as   the   xxunk   madame   de   xxunk )   xxunk   about   as   much   comedy   as   ( the   expected )   action   and   romance ;   while   some   may   find   this   xxunk ,   i   don ' t   xxunk   myself   as   i   xxunk   the   xxunk   xxunk   xxunk   and ,   on   the   whole ,   this   combination   is   xxunk   with   xxunk   xxunk ' s   xxunk   xxunk   the   adventures   of   gerard   ( 1970 ).   that   said ,   the   xxunk   here   are   xxunk   xxunk   for   an   xxunk   xxunk   enterprise   ( xxunk   a   xxunk   in   the   woods   and   the   xxunk   at   a   convent )   and   the   film   itself   rather   adult   at   times   ( with   xxunk   xxunk   to   xxunk   as   well   as   xxunk   language   xxunk   throughout )   when   xxunk   xxunk   with   vintage   hollywood   xxunk   as   i   did   now ;   the   climax ,   then   is   xxunk   xxunk :   the   enemy   forces   ( who ,   xxunk ,   are   made   to   speak   in   xxunk   xxunk )   are   xxunk   by   our   heroic   trio   alone ,   much   to   the   king ' s   xxunk   who ,   as   xxunk   by   marcel   xxunk   xxunk   xxunk   for   his   role   of   leader   of   the   xxunk   xxunk   in   marcel   xxunk xxunk s   children   of   paradise   ( 1945 )   xxunk   is   himself   something   of   a   xxunk .   \n",
              "   \n",
              "   p . s .   an   italian   tv   channel   has   been   xxunk   to   screen   xxunk ' s   xxunk   champagne   for   xxunk   ( 1964 )   for   months   now   but ,   despite   programming   it   three   times   xxunk   ( with   a   xxunk   fourth   one   xxunk   for   next   week ),   they   have   yet   to   show   it ;   even   so ,   i   do   have   three   more   films   of   his   in   my   xxunk   vhs   xxunk   ( xxunk   xxunk   from   xxunk   italian   tv   xxunk ):   the   xxunk   epic   la   xxunk   de   xxunk   ( 1948 ;   also   starring   gerard   philippe ),   the   second   twin   ( 1967 )   and   the   legend   of   xxunk   king   ( 1971 ;   with   xxunk   xxunk   and   claudia   xxunk ).\n",
              "y: LMLabelList\n",
              ",,,,\n",
              "Path: /root/.fastai/data/imdb_sample;\n",
              "\n",
              "Test: None, model=SequentialRNN(\n",
              "  (0): AWD_LSTM(\n",
              "    (encoder): Embedding(60005, 400, padding_idx=1)\n",
              "    (encoder_dp): EmbeddingDropout(\n",
              "      (emb): Embedding(60005, 400, padding_idx=1)\n",
              "    )\n",
              "    (rnns): ModuleList(\n",
              "      (0): WeightDropout(\n",
              "        (module): LSTM(400, 1550, batch_first=True)\n",
              "      )\n",
              "      (1): WeightDropout(\n",
              "        (module): LSTM(1550, 1550, batch_first=True)\n",
              "      )\n",
              "      (2): WeightDropout(\n",
              "        (module): LSTM(1550, 1550, batch_first=True)\n",
              "      )\n",
              "      (3): WeightDropout(\n",
              "        (module): LSTM(1550, 400, batch_first=True)\n",
              "      )\n",
              "    )\n",
              "    (input_dp): RNNDropout()\n",
              "    (hidden_dps): ModuleList(\n",
              "      (0): RNNDropout()\n",
              "      (1): RNNDropout()\n",
              "      (2): RNNDropout()\n",
              "      (3): RNNDropout()\n",
              "    )\n",
              "  )\n",
              "  (1): LinearDecoder(\n",
              "    (decoder): Linear(in_features=400, out_features=60005, bias=True)\n",
              "    (output_dp): RNNDropout()\n",
              "  )\n",
              "), opt_func=functools.partial(<class 'torch.optim.adam.Adam'>, betas=(0.9, 0.99)), loss_func=FlattenedLoss of CrossEntropyLoss(), metrics=[<function accuracy at 0x7f1db63a1158>], true_wd=True, bn_wd=True, wd=0.01, train_bn=True, path=PosixPath('/root/.fastai/data/imdb_sample'), model_dir='models', callback_fns=[functools.partial(<class 'fastai.basic_train.Recorder'>, add_time=True, silent=False), functools.partial(<class 'fastai.train.GradientClipping'>, clip=0.12)], callbacks=[RNNTrainer\n",
              "learn: LanguageLearner(data=TextLMDataBunch;\n",
              "\n",
              "Train: LabelList (800 items)\n",
              "x: LMTextList\n",
              "xxbos   xxunk !   meg   ryan   doesn ' t   even   look   her   usual   xxunk   xxunk   self   in   this ,   which   xxunk   makes   me   xxunk   her   xxunk   xxunk   acting   xxunk .   hard   to   believe   she   was   the   producer   on   this   dog .   plus   kevin   xxunk :   what   kind   of   suicide   trip   has   his   career   been   on ?   xxunk xxunk   xxunk xxunk   finally   this   was   directed   by   the   guy   who   did   big   chill ?   must   be   a   replay   of   xxunk   -   hollywood   style .   xxunk !,xxbos   every   once   in   a   long   while   a   movie   will   come   along   that   will   be   so   xxunk   that   i   feel   xxunk   to   xxunk   people .   if   i   labor   all   my   days   and   i   can   save   but   one   soul   from   xxunk   this   movie ,   how   great   will   be   my   joy .   \n",
              "   \n",
              "   where   to   begin   my   xxunk   of   pain .   for   xxunk ,   there   was   a   musical   xxunk   every   five   minutes .   there   was   no   character   development .   every   character   was   a   stereotype .   we   had   xxunk   guy ,   fat   guy   who   xxunk   xxunk ,   xxunk   foreign   guy ,   etc .   the   script   xxunk   as   if   it   were   being   written   as   the   movie   was   being   shot .   the   production   value   was   so   xxunk   low   that   it   xxunk   like   i   was   xxunk   a   junior   high   video   presentation .   have   the   directors ,   producers ,   etc .   ever   even   seen   a   movie   before ?   xxunk   is   getting   worse   and   worse   with   every   new   entry .   the   concept   for   this   movie   xxunk   so   funny .   how   could   you   go   wrong   with   gary   coleman   and   a   xxunk   of   xxunk   xxunk   actors .   but   trust   me   when   i   say   this ,   things   went   wrong ,   very   wrong .,xxbos   name   just   says   it   all .   i   xxunk   this   movie   with   my   dad   when   it   came   out   and   having   xxunk   in   korea   he   had   great   xxunk   for   the   man .   the   xxunk   thing   about   this   film   is   that   it   only   xxunk   on   a   short   period   of   the   man ' s   life   -   xxunk   enough   the   man ' s   entire   life   would   have   made   such   an   epic   xxunk   that   it   is   xxunk   to   imagine   the   cost   for   production .   \n",
              "   \n",
              "   some   xxunk   xxunk   to   the   xxunk   xxunk   about   the   man ,   which   are   cheap   xxunk .   the   theme   of   the   movie   \" duty ,   honor ,   country \"   are   not   just   xxunk   words   xxunk   from   the   lips   of   a   xxunk   officer   -   it   is   the   deep   declaration   of   one   man ' s   total   xxunk   to   his   country .   \n",
              "   \n",
              "   xxunk   peck   being   the   liberal   that   he   was   xxunk   a   better   understanding   of   the   man .   he   does   a   great   job   xxunk   the   fearless   general   xxunk   with   the   humane   side   of   the   man .,xxbos   from   the   start ,   you   know   how   this   movie   will   end .   it ' s   so   full   of   clich é s   your   typical   xxunk   member   will   not   even   like   this   movie .   i   give   it   2   out   of   10,   only   because   of   the   acting   of   william   benton .   i   can ' t   believe   people   xxunk   6 +   for   this   movie .   it ' s   so   biased   towards   a   ' certain   point   of   view '   ( once   a   thief ).   people   xxunk ' t   born   bad .   neither   are   they   born   good .   they   are   born   with   a   clean   slate .   it ' s   society ,   parents   and   education   what   makes   them   who   they   are .   and   if   they   take   the   wrong   turn ,   somewhere   down   the   line ,   it   xxunk   isn ' t   going   to   be   the   american   xxunk   system   that   gets   them   back   on   track !   xxunk ,   xxunk   this   movie   like   the   xxunk .   i   bet   you   have   better   things   to   do   with   your   time   than   waste   it   on   this   piece   of   xxunk .   \n",
              "   \n",
              "  ,xxbos   there   were   a   lot   of   truly   great   horror   movies   produced   in   the   xxunk   -   but   this   film   xxunk   isn ' t   one   of   them !   it ' s   a   shame   the   child   isn ' t   better   as   it   works   from   a   xxunk   idea   that   takes   in   a   couple   of   xxunk   successful   horror   xxunk .   we   have   the   idea   of   a   xxunk   child ,   which   xxunk   so   well   in   classic   films   such   as   the   bad   seed   and   then   we   have   the   central   zombie   theme ,   which   of   course   has   been   the   xxunk   of   many   a   successful   horror   movie .   the   plot   is   xxunk   this :   young   girl   xxunk   a   load   of   people   for   the   death   of   her   mother ,   so   she   goes   to   the   xxunk   and   xxunk   the   dead   to   get   revenge   ( as   you   do ).   this   is   all   well   and   good ,   xxunk   for   the   fact   that   it ' s   xxunk !   nothing   happens   for   most   of   the   film ,   and   although   it   does   pick   up   at   the   end   with   some   nice   xxunk ;   it ' s   not   enough   of   a   finale   to   xxunk   xxunk   through   the   rest   of   it .   the   film   was   xxunk   shot   on   a   budget   as   the   xxunk   look   cheap   and   all   the   actors   are   xxunk .   there ' s   really   not   much   i   can   say   about   the   film   overall   as   there   isn ' t   much   to   it .   the   child   is   a   xxunk   xxunk   horror   xxunk   and   i   xxunk   don ' t   xxunk   it .\n",
              "y: LMLabelList\n",
              ",,,,\n",
              "Path: /root/.fastai/data/imdb_sample;\n",
              "\n",
              "Valid: LabelList (200 items)\n",
              "x: LMTextList\n",
              "xxbos   because   ' cruel '   would   be   the   only   word   in   xxunk   to   xxunk   the   xxunk   of   these   film   xxunk .   where   do   you   even   begin ?   in   a   xxunk   of   b * xxunk ,   i ' m   going   to   start   with   the   xxunk   acting   of   xxunk   everybody   in   this   movie .   scratch   that .   xxunk   does   not   belong   in   that   xxunk .   i   can ' t   think   of   even   one   character   who   was   xxunk   well .   although ,   in   all   xxunk ,   it   would   be   xxunk   impossible   to   xxunk   these   zero   dimensional   characters   in   a   successful   way .   still ,   the   girl   who   played   katherine   ( whose   name   i   xxunk   don ' t   include   -   i ' m   xxunk   she   doesn ' t   xxunk )   remains   one   of   the   worst   actors   i ' ve   ever   seen ,   only   xxunk   by   the   guy   who   played   sebastian .   the   story   was   god   xxunk .   it   xxunk   to   mirror   the   xxunk   that   was   the   first   one   but   failed   in   so   many   ways .   pretty   much   every   part   of   it   was   xxunk   -   though   i   will   xxunk   ( xxunk )   that   the   plot   twist   was   xxunk   good   it   its   surprise .   and   the   ending   was   at   least   slightly   xxunk .   but   this   film   is   up   there   with   the   worst   i ' ve   seen .   don ' t   watch   it .   just   don ' t .   there   is   xxunk   no   value   in   xxunk   it .   none .   it   only   takes   away   the   xxunk   of   the   first .,xxbos   this   film   is   based   on   the   novel   by   john   xxunk .   could   someone   please   tell   me   why ?   i   see   xxunk   no   reason   why   this   fine   book   should   be   adapted   in   this   way .   if   you   want   to   make   a   romantic   xxunk   hollywood   production   with   colin   xxunk   and   xxunk   xxunk ,   then   how   could   you   xxunk   make   a   connection   to   ask   the   dust   ( the   novel xxunk   xxunk   if   you   wanted   to   make   this   story   into   a   film ,   then   why   would   you   want   to   make   it   into   a   romantic   xxunk   hollywood   production   with   colin   xxunk   and   xxunk   xxunk ?   i   don ' t   get   it .   \n",
              "   \n",
              "   the   adaptation   of   the   story   is   xxunk   made ,   and   if   you   have   read   the   book   and   xxunk   it ,   i ' m   almost   sure   you   won ' t   like   what   xxunk   did   with   it .   \n",
              "   \n",
              "   in   the   beginning   of   the   film   you ' ll   maybe   find   the   casting   odd ,   the   acting   bad   and   the   cinematography   just   a   bit   xxunk .   but   you   hope   for   the   best .   i   really   xxunk   a   lot   during   this   film .   i   xxunk   wanted   it   to   be   good .   but   it   only   gets   worse ,   and   it   is   as   simple   as   that :   xxunk   you   read   xxunk   novel   or   not ,   this   is   not   a   good   film .   just   another   romantic   xxunk   hollywood   production   combined   with   bad   acting ,   xxunk   of   structure   and   -   of   course   -   xxunk   of   xxunk   of   colin   xxunk   naked   xxunk .   \n",
              "   \n",
              "   i   could   xxunk   a   lot   more   about   this   film ,   but   why   waste   my   time .   i ' ve   seen   it .   alright .   i   had   to   see   it ,   because   i   like   the   book   so   much   and   was   xxunk .   and   i ' m   very   xxunk .   \n",
              "   \n",
              "   1   /   10   is   for   colin ' s   sweet   little   xxunk   in   the   end   of   the   film .   so   sweet xxunk   had   he   xxunk   it   the   whole   time   through ,   i ' d   given   it   2   /   10.,xxbos   well ,   i   xxunk   the   good   news   concerning   william   xxunk ' s   2001   opus ,   \" the   xxunk   avenger ,\"   is   that   it   xxunk   to   xxunk   three   of   xxunk   meyer ' s   xxunk   xxunk   xxunk ,   xxunk   and   raven   de   la   xxunk   one   picture .   ( i   can   only   xxunk   that   xxunk   xxunk ,   xxunk   xxunk   and   xxunk   xxunk   were   xxunk   the   week   they   shot   this   thing xxunk or   else   xxunk   to   see   a   copy   of   the   script   in   advance )   the   bad   news ,   though   ( and   there ' s   xxunk   of   it ),   is   that   this   xxunk   it   can   even   be   called   that ,   having   been   shot   straight   to   xxunk   a   complete   xxunk ,   a   total   xxunk ,   an   xxunk   xxunk ,   an   absolute   xxunk ,   and   truly   one   of   the   worst   pictures   that   i   have   ever   seen .   look   no   further   for   the   xxunk   xxunk   movie   ever   made !   the   plot   here ,   such   as   it   is ,   xxunk   with   xxunk   xxunk   xxunk   after   xxunk   the   rare   xxunk   plant   in   south   america   to   cure   her   xxunk   cancer   ( oy ),   and   later   xxunk   a   trio   of   xxunk   bikini   xxunk   back   in   l . a .   too   bad   that   every   xxunk   xxunk   xxunk   xxunk   out   falls   xxunk   ( you   should   xxunk   the   expression )   flat ,   that   there   is   zero   xxunk   xxunk   in   the   film   at   all   ( other   than   some   old   photos   of   xxunk   in   her   xxunk ),   and   that   some   xxunk   cream   and   a   xxunk   xxunk   are   the   sum   total   of   the   special   fx .   the   meyer   xxunk   here   are   a   bit   long   in   the   tooth   /   xxunk   in   the   chest ,   to   put   it   xxunk ,   although   xxunk   dawn   thomas ,   as   bikini   girl   xxunk   xxunk   ,   does   xxunk   to ,   xxunk ,   stand   out   xxunk .   so   why   have   i   given   this   xxunk ,   xxunk ,   failed   xxunk   of   a   movie   2   stars   instead   of   1 ?   to   be   xxunk :   joe   bob   xxunk .   his   xxunk   xxunk   in   the   special   features   of   the   dvd   i   just   xxunk   is   xxunk   xxunk ,   xxunk   when   he   xxunk   out   around   100   xxunk   for   the   word   \" xxunk \"   from   the   xxunk +   on   his   web   site ' s   \" canonical   xxunk   list .\"   the   man   is   a   national   treasure ,   and   he   xxunk   to   upgrade   this   xxunk   of   a   disc   to   coaster   status !,xxbos   one   of   the   worst   movies   i   ever   saw .   my   only   thought   was :   \" how   can   i   get   my   money   back   from   hollywood   video \".   this   is   no   way   worth   four   xxunk ,   or   any   xxunk .   i   think   it   was   an   attempt   to   rip   off   the   mexican ,   or   xxunk   diesel ' s   movies ,   but   it   failed   xxunk   to   do   this .   \n",
              "   \n",
              "   the   acting   was   xxunk ,   i   xxunk   sorry   for   the   actors   that   they   xxunk ' t   find   something   better   to   do   with   their   time .   the   story   was   xxunk .   we   were   calling   out   the   lines   ahead   of   the   actors ,   it   was   so   xxunk .   the   mexican   accent   of   the   leading   lady   was   xxunk   xxunk ,   worse   than   a   cartoon .   \n",
              "   \n",
              "   skip   it .,xxbos   this   is   the   last   of   four   xxunk   from   france   i ' ve   scheduled   for   viewing   during   this   christmas   season :   the   others   ( in   order   of   viewing )   were   the   xxunk   the   black   tulip   ( 1964 ;   from   the   same   director   as   this   one   but   not   xxunk   as   good ),   the   xxunk   effective   lady   oscar   ( 1979 ;   which   had   xxunk   as   a   japanese   manga )   and   the   xxunk   xxunk   ( 1962 ).   xxunk ,   i   had   xxunk   this   one   not   too   long   ago   on   xxunk   italian   tv   and   recall   not   being   xxunk   xxunk   over   by   it ,   so   that   i   was   xxunk   xxunk   by   how   much   i   xxunk   it   this   time   around   ( also   bearing   in   mind   the   xxunk   xxunk   of   xxunk   shown   towards   the   film   here   and   xxunk   when   it   was   first   announced   as   an   xxunk   dvd   release   from   xxunk ).   \n",
              "   \n",
              "   xxunk ,   xxunk   la   xxunk   has   xxunk   a   bit   in   common   with   the   xxunk   xxunk :   not   just   cast   and   crew   members   ( producers   georges   xxunk   and   alexandre   xxunk ,   xxunk   christian   xxunk ,   actor   noel   xxunk )   but   xxunk   as   well   xxunk   in   fact ,   the   hero   is   a   xxunk   soldier   ( xxunk   xxunk ' s   xxunk   had   also   had   a   brief   military   spell )   who ' s   loved   by   a   xxunk   girl   ( in   this   case ,   gypsy   gina   xxunk )   while   he ' s   himself   xxunk   by   an   impossible   love   ( here ,   it ' s   none   other   than   the   king ' s   daughter xxunk   as   in   the   later   film ,   too ,   xxunk   ( an   xxunk   cast   gerard   xxunk   who ,   xxunk ,   is   so   full   of   life   here   that   one   xxunk   it   hard   to   believe   that   he   would   be   xxunk   down   by   cancer   within   7   years '   time )   is   xxunk   by   two   xxunk   yet   xxunk   men   ( one   of   them   is   xxunk   his   superior   officer   and   the   heroine ' s   own   father )   and   xxunk   by   an   xxunk   figure   within   his   own   xxunk   ( the   xxunk   xxunk ,   with   whom   the   hero   xxunk   xxunk   in   a   rooftop   duel   since   he   too   has   xxunk   designs   on   the   gypsy   girl xxunk   for   the   record ,   xxunk   will   xxunk   philippe   in   her   next   film ,   rene   xxunk ' s   xxunk   romantic   fantasy   les   xxunk   de   xxunk   ( 1952 ).   \n",
              "   \n",
              "   xxunk   xxunk   to   be   a   big   xxunk   hit   on   its   xxunk   and   even   xxunk   a   xxunk   ( but   xxunk )   best   direction   award   at   cannes   over   more   xxunk   films   like   an   american   in   paris   ( 1951 ),   detective   story   ( 1951 ),   xxunk ,   xxunk   d .   and   viva   xxunk !   in   fact ,   its   popularity   xxunk   its   xxunk   in   a   xxunk   version   ( xxunk   for   the   benefit   of   xxunk   who   xxunk ' t   touch   a   xxunk   product   with   a   xxunk   pole )   and   the   xxunk   dvd   itself   xxunk   a   sample   from   this   xxunk ;   being   xxunk   a   xxunk   title ,   there ' s   also   the   xxunk   choice   of   an   xxunk   soundtrack   but ,   even   if   these   xxunk   not   xxunk   xxunk   to   sit   through   xxunk ,   when   all   is   said   and   done ,   there ' s   simply   no   xxunk   for   the   original !   \n",
              "   \n",
              "   xxunk   la   xxunk   ( a   xxunk   given   the   hero   by   a   young   xxunk   page   as   the   xxunk   madame   de   xxunk )   xxunk   about   as   much   comedy   as   ( the   expected )   action   and   romance ;   while   some   may   find   this   xxunk ,   i   don ' t   xxunk   myself   as   i   xxunk   the   xxunk   xxunk   xxunk   and ,   on   the   whole ,   this   combination   is   xxunk   with   xxunk   xxunk ' s   xxunk   xxunk   the   adventures   of   gerard   ( 1970 ).   that   said ,   the   xxunk   here   are   xxunk   xxunk   for   an   xxunk   xxunk   enterprise   ( xxunk   a   xxunk   in   the   woods   and   the   xxunk   at   a   convent )   and   the   film   itself   rather   adult   at   times   ( with   xxunk   xxunk   to   xxunk   as   well   as   xxunk   language   xxunk   throughout )   when   xxunk   xxunk   with   vintage   hollywood   xxunk   as   i   did   now ;   the   climax ,   then   is   xxunk   xxunk :   the   enemy   forces   ( who ,   xxunk ,   are   made   to   speak   in   xxunk   xxunk )   are   xxunk   by   our   heroic   trio   alone ,   much   to   the   king ' s   xxunk   who ,   as   xxunk   by   marcel   xxunk   xxunk   xxunk   for   his   role   of   leader   of   the   xxunk   xxunk   in   marcel   xxunk xxunk s   children   of   paradise   ( 1945 )   xxunk   is   himself   something   of   a   xxunk .   \n",
              "   \n",
              "   p . s .   an   italian   tv   channel   has   been   xxunk   to   screen   xxunk ' s   xxunk   champagne   for   xxunk   ( 1964 )   for   months   now   but ,   despite   programming   it   three   times   xxunk   ( with   a   xxunk   fourth   one   xxunk   for   next   week ),   they   have   yet   to   show   it ;   even   so ,   i   do   have   three   more   films   of   his   in   my   xxunk   vhs   xxunk   ( xxunk   xxunk   from   xxunk   italian   tv   xxunk ):   the   xxunk   epic   la   xxunk   de   xxunk   ( 1948 ;   also   starring   gerard   philippe ),   the   second   twin   ( 1967 )   and   the   legend   of   xxunk   king   ( 1971 ;   with   xxunk   xxunk   and   claudia   xxunk ).\n",
              "y: LMLabelList\n",
              ",,,,\n",
              "Path: /root/.fastai/data/imdb_sample;\n",
              "\n",
              "Test: None, model=SequentialRNN(\n",
              "  (0): AWD_LSTM(\n",
              "    (encoder): Embedding(60005, 400, padding_idx=1)\n",
              "    (encoder_dp): EmbeddingDropout(\n",
              "      (emb): Embedding(60005, 400, padding_idx=1)\n",
              "    )\n",
              "    (rnns): ModuleList(\n",
              "      (0): WeightDropout(\n",
              "        (module): LSTM(400, 1550, batch_first=True)\n",
              "      )\n",
              "      (1): WeightDropout(\n",
              "        (module): LSTM(1550, 1550, batch_first=True)\n",
              "      )\n",
              "      (2): WeightDropout(\n",
              "        (module): LSTM(1550, 1550, batch_first=True)\n",
              "      )\n",
              "      (3): WeightDropout(\n",
              "        (module): LSTM(1550, 400, batch_first=True)\n",
              "      )\n",
              "    )\n",
              "    (input_dp): RNNDropout()\n",
              "    (hidden_dps): ModuleList(\n",
              "      (0): RNNDropout()\n",
              "      (1): RNNDropout()\n",
              "      (2): RNNDropout()\n",
              "      (3): RNNDropout()\n",
              "    )\n",
              "  )\n",
              "  (1): LinearDecoder(\n",
              "    (decoder): Linear(in_features=400, out_features=60005, bias=True)\n",
              "    (output_dp): RNNDropout()\n",
              "  )\n",
              "), opt_func=functools.partial(<class 'torch.optim.adam.Adam'>, betas=(0.9, 0.99)), loss_func=FlattenedLoss of CrossEntropyLoss(), metrics=[<function accuracy at 0x7f1db63a1158>], true_wd=True, bn_wd=True, wd=0.01, train_bn=True, path=PosixPath('/root/.fastai/data/imdb_sample'), model_dir='models', callback_fns=[functools.partial(<class 'fastai.basic_train.Recorder'>, add_time=True, silent=False), functools.partial(<class 'fastai.train.GradientClipping'>, clip=0.12)], callbacks=[...], layer_groups=[Sequential(\n",
              "  (0): WeightDropout(\n",
              "    (module): LSTM(400, 1550, batch_first=True)\n",
              "  )\n",
              "  (1): RNNDropout()\n",
              "), Sequential(\n",
              "  (0): WeightDropout(\n",
              "    (module): LSTM(1550, 1550, batch_first=True)\n",
              "  )\n",
              "  (1): RNNDropout()\n",
              "), Sequential(\n",
              "  (0): WeightDropout(\n",
              "    (module): LSTM(1550, 1550, batch_first=True)\n",
              "  )\n",
              "  (1): RNNDropout()\n",
              "), Sequential(\n",
              "  (0): WeightDropout(\n",
              "    (module): LSTM(1550, 400, batch_first=True)\n",
              "  )\n",
              "  (1): RNNDropout()\n",
              "), Sequential(\n",
              "  (0): Embedding(60005, 400, padding_idx=1)\n",
              "  (1): EmbeddingDropout(\n",
              "    (emb): Embedding(60005, 400, padding_idx=1)\n",
              "  )\n",
              "  (2): LinearDecoder(\n",
              "    (decoder): Linear(in_features=400, out_features=60005, bias=True)\n",
              "    (output_dp): RNNDropout()\n",
              "  )\n",
              ")], add_time=True, silent=False)\n",
              "alpha: 2\n",
              "beta: 1], layer_groups=[Sequential(\n",
              "  (0): WeightDropout(\n",
              "    (module): LSTM(400, 1550, batch_first=True)\n",
              "  )\n",
              "  (1): RNNDropout()\n",
              "), Sequential(\n",
              "  (0): WeightDropout(\n",
              "    (module): LSTM(1550, 1550, batch_first=True)\n",
              "  )\n",
              "  (1): RNNDropout()\n",
              "), Sequential(\n",
              "  (0): WeightDropout(\n",
              "    (module): LSTM(1550, 1550, batch_first=True)\n",
              "  )\n",
              "  (1): RNNDropout()\n",
              "), Sequential(\n",
              "  (0): WeightDropout(\n",
              "    (module): LSTM(1550, 400, batch_first=True)\n",
              "  )\n",
              "  (1): RNNDropout()\n",
              "), Sequential(\n",
              "  (0): Embedding(60005, 400, padding_idx=1)\n",
              "  (1): EmbeddingDropout(\n",
              "    (emb): Embedding(60005, 400, padding_idx=1)\n",
              "  )\n",
              "  (2): LinearDecoder(\n",
              "    (decoder): Linear(in_features=400, out_features=60005, bias=True)\n",
              "    (output_dp): RNNDropout()\n",
              "  )\n",
              ")], add_time=True, silent=False)"
            ]
          },
          "metadata": {
            "tags": []
          },
          "execution_count": 9
        }
      ]
    },
    {
      "cell_type": "code",
      "metadata": {
        "colab_type": "code",
        "id": "SwJK_G80KROl",
        "outputId": "3b84aac5-ad07-42c0-a8f7-b9dae7ca0048",
        "colab": {
          "base_uri": "https://localhost:8080/",
          "height": 136
        }
      },
      "source": [
        "print(learn.predict('กาลครั้งหนึ่งนานมาแล้ว ', 200, temperature=0.8, min_p=0.005, sep = ''))"
      ],
      "execution_count": 10,
      "outputs": [
        {
          "output_type": "stream",
          "text": [
            "กาลครั้งหนึ่งนานมาแล้ว เขาพบว่า \"เราไม่สามารถไปไหนได้\" เขาเห็นอะไรบางอย่างอยู่ในบ้านของตน และเชื่อว่าจะเป็นสิ่งที่เขาต้องใช้เวลาในการทำ การที่เขาคิดว่ามันคือการเปลี่ยนผ่าน \n",
            " \n",
            " เมื่อเขามีคนบอกให้เขารู้ว่า เขาคิดว่า เขาน่าจะอยู่ในช่วงที่เขาอยู่กับเรา เขาจึงบอกว่า ถ้าเขามี \"มันจะไม่เกิดขึ้น\" เขาก็จะช่วยโลกให้รอด \n",
            " \n",
            " เมื่อเขาไปถึง เขาจึงได้พบกับ \"เอลซี\" ซึ่งเป็นภรรยาของเขา ขณะที่เขากำลังเดินไปยังเกาะแห่งหนึ่ง โดยที่เขาไม่เคยรู้ว่า เธอเป็นพวกที่ไม่ชอบ แต่จะมาพบกันอีกในครั้งเดียวกัน \n",
            " \n",
            " วันหนึ่งที่เขาเดินทางไปยังเกาะแห่งหนึ่ง เขาได้พบกับ \"เซลิน\" ซึ่งเป็นคนที่เขาได้รู้จัก และได้บอกกับเขาว่า \n"
          ],
          "name": "stdout"
        }
      ]
    },
    {
      "cell_type": "code",
      "metadata": {
        "colab_type": "code",
        "id": "MyKkpWZbMOzt",
        "colab": {}
      },
      "source": [
        ""
      ],
      "execution_count": 0,
      "outputs": []
    }
  ]
}