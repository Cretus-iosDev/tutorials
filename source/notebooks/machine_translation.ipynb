{
  "nbformat": 4,
  "nbformat_minor": 0,
  "metadata": {
    "colab": {
      "name": "machine_translation.ipynb",
      "provenance": [],
      "collapsed_sections": [],
      "toc_visible": true
    },
    "kernelspec": {
      "name": "python3",
      "display_name": "Python 3"
    }
  },
  "cells": [
    {
      "cell_type": "markdown",
      "metadata": {
        "id": "lJI_2lVuorP7",
        "colab_type": "text"
      },
      "source": [
        "# PyThaiNLP Translate"
      ]
    },
    {
      "cell_type": "markdown",
      "metadata": {
        "id": "VrfKSqsCpwGy",
        "colab_type": "text"
      },
      "source": [
        "\n",
        "\n",
        "We used machine translation model from [The VISTEC-depa Thailand Artificial Intelligence Research Institute](https://airesearch.in.th/releases/machine-translation-models/)."
      ]
    },
    {
      "cell_type": "markdown",
      "metadata": {
        "id": "E5lyybeKpw7L",
        "colab_type": "text"
      },
      "source": [
        "## Install"
      ]
    },
    {
      "cell_type": "code",
      "metadata": {
        "id": "1r4L-oDsoZ2Q",
        "colab_type": "code",
        "colab": {
          "base_uri": "https://localhost:8080/",
          "height": 558
        },
        "outputId": "6391a5af-85d6-48c9-8b24-00c23280c8dd"
      },
      "source": [
        "!pip install git+https://github.com/pytorch/fairseq@6f6461b"
      ],
      "execution_count": 1,
      "outputs": [
        {
          "output_type": "stream",
          "text": [
            "Collecting git+https://github.com/pytorch/fairseq@6f6461b\n",
            "  Cloning https://github.com/pytorch/fairseq (to revision 6f6461b) to /tmp/pip-req-build-1zuda3z8\n",
            "  Running command git clone -q https://github.com/pytorch/fairseq /tmp/pip-req-build-1zuda3z8\n",
            "\u001b[33m  WARNING: Did not find branch or tag '6f6461b', assuming revision or ref.\u001b[0m\n",
            "  Running command git checkout -q 6f6461b\n",
            "  Running command git submodule update --init --recursive -q\n",
            "  Installing build dependencies ... \u001b[?25l\u001b[?25hdone\n",
            "  Getting requirements to build wheel ... \u001b[?25l\u001b[?25hdone\n",
            "  Installing backend dependencies ... \u001b[?25l\u001b[?25hdone\n",
            "    Preparing wheel metadata ... \u001b[?25l\u001b[?25hdone\n",
            "Requirement already satisfied: tqdm in /usr/local/lib/python3.6/dist-packages (from fairseq==0.9.0) (4.41.1)\n",
            "Requirement already satisfied: cffi in /usr/local/lib/python3.6/dist-packages (from fairseq==0.9.0) (1.14.1)\n",
            "Requirement already satisfied: cython in /usr/local/lib/python3.6/dist-packages (from fairseq==0.9.0) (0.29.21)\n",
            "Requirement already satisfied: regex in /usr/local/lib/python3.6/dist-packages (from fairseq==0.9.0) (2019.12.20)\n",
            "Requirement already satisfied: torch in /usr/local/lib/python3.6/dist-packages (from fairseq==0.9.0) (1.6.0+cu101)\n",
            "Collecting sacrebleu\n",
            "\u001b[?25l  Downloading https://files.pythonhosted.org/packages/23/d3/be980ad7cda7c4bbfa97ee3de062fb3014fc1a34d6dd5b82d7b92f8d6522/sacrebleu-1.4.13-py3-none-any.whl (43kB)\n",
            "\u001b[K     |████████████████████████████████| 51kB 2.5MB/s \n",
            "\u001b[?25hRequirement already satisfied: numpy in /usr/local/lib/python3.6/dist-packages (from fairseq==0.9.0) (1.18.5)\n",
            "Requirement already satisfied: pycparser in /usr/local/lib/python3.6/dist-packages (from cffi->fairseq==0.9.0) (2.20)\n",
            "Requirement already satisfied: future in /usr/local/lib/python3.6/dist-packages (from torch->fairseq==0.9.0) (0.16.0)\n",
            "Collecting portalocker\n",
            "  Downloading https://files.pythonhosted.org/packages/89/a6/3814b7107e0788040870e8825eebf214d72166adf656ba7d4bf14759a06a/portalocker-2.0.0-py2.py3-none-any.whl\n",
            "Building wheels for collected packages: fairseq\n",
            "  Building wheel for fairseq (PEP 517) ... \u001b[?25l\u001b[?25hdone\n",
            "  Created wheel for fairseq: filename=fairseq-0.9.0-cp36-cp36m-linux_x86_64.whl size=2204531 sha256=05b4414333b609afe22485962e5bf06d27798e343934dc3c4fd305f1444ab65f\n",
            "  Stored in directory: /tmp/pip-ephem-wheel-cache-l4slvtjp/wheels/fe/76/a0/094fc6e2fbd71b397f081787ec56944f4e7abf58436110f5fa\n",
            "Successfully built fairseq\n",
            "Installing collected packages: portalocker, sacrebleu, fairseq\n",
            "Successfully installed fairseq-0.9.0 portalocker-2.0.0 sacrebleu-1.4.13\n"
          ],
          "name": "stdout"
        }
      ]
    },
    {
      "cell_type": "code",
      "metadata": {
        "id": "yDqmlASopIgT",
        "colab_type": "code",
        "colab": {
          "base_uri": "https://localhost:8080/",
          "height": 295
        },
        "outputId": "efb938b0-0501-4164-e55d-632f9dfcc1f7"
      },
      "source": [
        "!wget https://github.com/PyThaiNLP/pythainlp/archive/add-translate.zip\n",
        "!unzip -q add-translate.zip"
      ],
      "execution_count": 2,
      "outputs": [
        {
          "output_type": "stream",
          "text": [
            "--2020-08-22 10:32:02--  https://github.com/PyThaiNLP/pythainlp/archive/add-translate.zip\n",
            "Resolving github.com (github.com)... 140.82.113.4\n",
            "Connecting to github.com (github.com)|140.82.113.4|:443... connected.\n",
            "HTTP request sent, awaiting response... 302 Found\n",
            "Location: https://codeload.github.com/PyThaiNLP/pythainlp/zip/add-translate [following]\n",
            "--2020-08-22 10:32:02--  https://codeload.github.com/PyThaiNLP/pythainlp/zip/add-translate\n",
            "Resolving codeload.github.com (codeload.github.com)... 140.82.113.9\n",
            "Connecting to codeload.github.com (codeload.github.com)|140.82.113.9|:443... connected.\n",
            "HTTP request sent, awaiting response... 200 OK\n",
            "Length: unspecified [application/zip]\n",
            "Saving to: ‘add-translate.zip’\n",
            "\n",
            "add-translate.zip       [        <=>         ]  12.67M  3.84MB/s    in 3.3s    \n",
            "\n",
            "2020-08-22 10:32:06 (3.84 MB/s) - ‘add-translate.zip’ saved [13288742]\n",
            "\n"
          ],
          "name": "stdout"
        }
      ]
    },
    {
      "cell_type": "code",
      "metadata": {
        "id": "vwxm_fjWs7tQ",
        "colab_type": "code",
        "colab": {
          "base_uri": "https://localhost:8080/",
          "height": 34
        },
        "outputId": "095c09f7-f514-429c-d291-8b7a00ccf23d"
      },
      "source": [
        "cd pythainlp-add-translate"
      ],
      "execution_count": 3,
      "outputs": [
        {
          "output_type": "stream",
          "text": [
            "/content/pythainlp-add-translate\n"
          ],
          "name": "stdout"
        }
      ]
    },
    {
      "cell_type": "code",
      "metadata": {
        "id": "lbkCHSngtLFS",
        "colab_type": "code",
        "colab": {
          "base_uri": "https://localhost:8080/",
          "height": 714
        },
        "outputId": "ad0e533d-8bab-48b7-8b8e-24cc728bbedd"
      },
      "source": [
        "!pip install -e .[translate]"
      ],
      "execution_count": 4,
      "outputs": [
        {
          "output_type": "stream",
          "text": [
            "Obtaining file:///content/pythainlp-add-translate\n",
            "Collecting python-crfsuite>=0.9.6\n",
            "\u001b[?25l  Downloading https://files.pythonhosted.org/packages/95/99/869dde6dbf3e0d07a013c8eebfb0a3d30776334e0097f8432b631a9a3a19/python_crfsuite-0.9.7-cp36-cp36m-manylinux1_x86_64.whl (743kB)\n",
            "\u001b[K     |████████████████████████████████| 747kB 4.6MB/s \n",
            "\u001b[?25hRequirement already satisfied: requests>=2.22.0 in /usr/local/lib/python3.6/dist-packages (from pythainlp==2.2.3) (2.23.0)\n",
            "Collecting tinydb>=3.0\n",
            "  Downloading https://files.pythonhosted.org/packages/b6/f6/b3e112addc8eb4a097f158124ce8b206767361a381f80c5f0c506d855e4a/tinydb-4.1.1-py3-none-any.whl\n",
            "Collecting sacremoses\n",
            "\u001b[?25l  Downloading https://files.pythonhosted.org/packages/7d/34/09d19aff26edcc8eb2a01bed8e98f13a1537005d31e95233fd48216eed10/sacremoses-0.0.43.tar.gz (883kB)\n",
            "\u001b[K     |████████████████████████████████| 890kB 16.2MB/s \n",
            "\u001b[?25hRequirement already satisfied: fairseq in /usr/local/lib/python3.6/dist-packages (from pythainlp==2.2.3) (0.9.0)\n",
            "Collecting sentencepiece\n",
            "\u001b[?25l  Downloading https://files.pythonhosted.org/packages/d4/a4/d0a884c4300004a78cca907a6ff9a5e9fe4f090f5d95ab341c53d28cbc58/sentencepiece-0.1.91-cp36-cp36m-manylinux1_x86_64.whl (1.1MB)\n",
            "\u001b[K     |████████████████████████████████| 1.1MB 31.3MB/s \n",
            "\u001b[?25hRequirement already satisfied: torch>=1.0.0 in /usr/local/lib/python3.6/dist-packages (from pythainlp==2.2.3) (1.6.0+cu101)\n",
            "Requirement already satisfied: chardet<4,>=3.0.2 in /usr/local/lib/python3.6/dist-packages (from requests>=2.22.0->pythainlp==2.2.3) (3.0.4)\n",
            "Requirement already satisfied: certifi>=2017.4.17 in /usr/local/lib/python3.6/dist-packages (from requests>=2.22.0->pythainlp==2.2.3) (2020.6.20)\n",
            "Requirement already satisfied: urllib3!=1.25.0,!=1.25.1,<1.26,>=1.21.1 in /usr/local/lib/python3.6/dist-packages (from requests>=2.22.0->pythainlp==2.2.3) (1.24.3)\n",
            "Requirement already satisfied: idna<3,>=2.5 in /usr/local/lib/python3.6/dist-packages (from requests>=2.22.0->pythainlp==2.2.3) (2.10)\n",
            "Requirement already satisfied: regex in /usr/local/lib/python3.6/dist-packages (from sacremoses->pythainlp==2.2.3) (2019.12.20)\n",
            "Requirement already satisfied: six in /usr/local/lib/python3.6/dist-packages (from sacremoses->pythainlp==2.2.3) (1.15.0)\n",
            "Requirement already satisfied: click in /usr/local/lib/python3.6/dist-packages (from sacremoses->pythainlp==2.2.3) (7.1.2)\n",
            "Requirement already satisfied: joblib in /usr/local/lib/python3.6/dist-packages (from sacremoses->pythainlp==2.2.3) (0.16.0)\n",
            "Requirement already satisfied: tqdm in /usr/local/lib/python3.6/dist-packages (from sacremoses->pythainlp==2.2.3) (4.41.1)\n",
            "Requirement already satisfied: numpy in /usr/local/lib/python3.6/dist-packages (from fairseq->pythainlp==2.2.3) (1.18.5)\n",
            "Requirement already satisfied: cython in /usr/local/lib/python3.6/dist-packages (from fairseq->pythainlp==2.2.3) (0.29.21)\n",
            "Requirement already satisfied: cffi in /usr/local/lib/python3.6/dist-packages (from fairseq->pythainlp==2.2.3) (1.14.1)\n",
            "Requirement already satisfied: sacrebleu in /usr/local/lib/python3.6/dist-packages (from fairseq->pythainlp==2.2.3) (1.4.13)\n",
            "Requirement already satisfied: future in /usr/local/lib/python3.6/dist-packages (from torch>=1.0.0->pythainlp==2.2.3) (0.16.0)\n",
            "Requirement already satisfied: pycparser in /usr/local/lib/python3.6/dist-packages (from cffi->fairseq->pythainlp==2.2.3) (2.20)\n",
            "Requirement already satisfied: portalocker in /usr/local/lib/python3.6/dist-packages (from sacrebleu->fairseq->pythainlp==2.2.3) (2.0.0)\n",
            "Building wheels for collected packages: sacremoses\n",
            "  Building wheel for sacremoses (setup.py) ... \u001b[?25l\u001b[?25hdone\n",
            "  Created wheel for sacremoses: filename=sacremoses-0.0.43-cp36-none-any.whl size=893260 sha256=ee78ae5eadbf94a5f76f1dc596c38746b7fd0384bbb28316895a3aeeeb131798\n",
            "  Stored in directory: /root/.cache/pip/wheels/29/3c/fd/7ce5c3f0666dab31a50123635e6fb5e19ceb42ce38d4e58f45\n",
            "Successfully built sacremoses\n",
            "Installing collected packages: python-crfsuite, tinydb, sacremoses, sentencepiece, pythainlp\n",
            "  Running setup.py develop for pythainlp\n",
            "Successfully installed pythainlp python-crfsuite-0.9.7 sacremoses-0.0.43 sentencepiece-0.1.91 tinydb-4.1.1\n"
          ],
          "name": "stdout"
        }
      ]
    },
    {
      "cell_type": "markdown",
      "metadata": {
        "id": "BKFwp-KCpazZ",
        "colab_type": "text"
      },
      "source": [
        "**All download and install model**"
      ]
    },
    {
      "cell_type": "code",
      "metadata": {
        "id": "SUEFsm8PpRk4",
        "colab_type": "code",
        "colab": {}
      },
      "source": [
        "from pythainlp.translate import download_model_all"
      ],
      "execution_count": 5,
      "outputs": []
    },
    {
      "cell_type": "code",
      "metadata": {
        "id": "e6KZgZKwpmDa",
        "colab_type": "code",
        "colab": {
          "base_uri": "https://localhost:8080/",
          "height": 173
        },
        "outputId": "98f62d88-183e-4705-f22d-ab32d3a3c1a7"
      },
      "source": [
        "download_model_all()"
      ],
      "execution_count": 6,
      "outputs": [
        {
          "output_type": "stream",
          "text": [
            "Corpus: scb_1m_th-en_newmm\n",
            "- Downloading: scb_1m_th-en_newmm 1.0\n"
          ],
          "name": "stdout"
        },
        {
          "output_type": "stream",
          "text": [
            "100%|██████████| 1879697467/1879697467 [00:38<00:00, 48642785.67it/s]\n"
          ],
          "name": "stderr"
        },
        {
          "output_type": "stream",
          "text": [
            "Corpus: scb_1m_th-en_spm\n",
            "- Downloading: scb_1m_th-en_spm 1.0\n"
          ],
          "name": "stdout"
        },
        {
          "output_type": "stream",
          "text": [
            "100%|██████████| 699200099/699200099 [00:14<00:00, 46737942.38it/s]\n"
          ],
          "name": "stderr"
        },
        {
          "output_type": "stream",
          "text": [
            "Corpus: scb_1m_en-th_moses\n",
            "- Downloading: scb_1m_en-th_moses 1.0\n"
          ],
          "name": "stdout"
        },
        {
          "output_type": "stream",
          "text": [
            "100%|██████████| 1173591382/1173591382 [00:25<00:00, 45401686.74it/s]\n"
          ],
          "name": "stderr"
        }
      ]
    },
    {
      "cell_type": "markdown",
      "metadata": {
        "id": "d8-XXPCmqofY",
        "colab_type": "text"
      },
      "source": [
        "## Translate"
      ]
    },
    {
      "cell_type": "markdown",
      "metadata": {
        "id": "QkC0f0elqtU1",
        "colab_type": "text"
      },
      "source": [
        "### Import"
      ]
    },
    {
      "cell_type": "code",
      "metadata": {
        "id": "mNg0wxkEqszb",
        "colab_type": "code",
        "colab": {}
      },
      "source": [
        "from pythainlp.translate import translate"
      ],
      "execution_count": 7,
      "outputs": []
    },
    {
      "cell_type": "markdown",
      "metadata": {
        "id": "YFOIgUE2rdri",
        "colab_type": "text"
      },
      "source": [
        "`translate(text, source, target, tokenizer =\"bpe\")`\n",
        "\n",
        "- text : text\n",
        "- source: source language\n",
        "- target: target language\n",
        "- tokenizer: tokenizer (word,bpe)\n",
        "\n",
        "#### List language\n",
        "- `th` is Thai language\n",
        "- `en` is English language"
      ]
    },
    {
      "cell_type": "markdown",
      "metadata": {
        "id": "pOO38Tvupnsr",
        "colab_type": "text"
      },
      "source": [
        "### English to Thai"
      ]
    },
    {
      "cell_type": "markdown",
      "metadata": {
        "id": "01VmL_Tspr4F",
        "colab_type": "text"
      },
      "source": [
        "We have 1 model\n",
        "\n",
        "- `scb_1m_en-th_moses` - `bpe` tokenizer"
      ]
    },
    {
      "cell_type": "code",
      "metadata": {
        "id": "UEDoyGYkqiGl",
        "colab_type": "code",
        "colab": {
          "base_uri": "https://localhost:8080/",
          "height": 34
        },
        "outputId": "820545e8-e92f-440a-e1cd-ea3be1463c99"
      },
      "source": [
        "print(translate(\"I want fried chicken.\",source=\"en\",target=\"th\"))"
      ],
      "execution_count": 15,
      "outputs": [
        {
          "output_type": "stream",
          "text": [
            " เอาไก่ทอดค่ะ\n"
          ],
          "name": "stdout"
        }
      ]
    },
    {
      "cell_type": "markdown",
      "metadata": {
        "id": "9MKFtxeFq1BS",
        "colab_type": "text"
      },
      "source": [
        "### Thai to English\n",
        "\n",
        "We have 2 model\n",
        "\n",
        "- `scb_1m_en-th_moses` - `bpe` tokenizer\n",
        "- `scb_1m_th-en_newmm` - `word` tokenizer"
      ]
    },
    {
      "cell_type": "code",
      "metadata": {
        "id": "zS7SnFfaq6BS",
        "colab_type": "code",
        "colab": {
          "base_uri": "https://localhost:8080/",
          "height": 34
        },
        "outputId": "98845e3f-14a8-4ce9-9587-65e3cb17a1fe"
      },
      "source": [
        "print(translate(\"ผมอยากกินไก่ทอด\",source=\"th\",target=\"en\"))"
      ],
      "execution_count": 14,
      "outputs": [
        {
          "output_type": "stream",
          "text": [
            "I want fried chicken.\n"
          ],
          "name": "stdout"
        }
      ]
    },
    {
      "cell_type": "code",
      "metadata": {
        "id": "yPKqpk0XrRMI",
        "colab_type": "code",
        "colab": {
          "base_uri": "https://localhost:8080/",
          "height": 34
        },
        "outputId": "34020a44-570b-4c59-f6f8-949a356adeb8"
      },
      "source": [
        "print(translate(\"ผมอยากกินไก่ทอด\",source=\"th\",target=\"en\", tokenizer=\"word\"))"
      ],
      "execution_count": 12,
      "outputs": [
        {
          "output_type": "stream",
          "text": [
            "I want to eat fried chicken.\n"
          ],
          "name": "stdout"
        }
      ]
    }
  ]
}