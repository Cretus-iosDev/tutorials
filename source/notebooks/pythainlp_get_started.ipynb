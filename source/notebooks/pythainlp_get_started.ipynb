{
  "nbformat": 4,
  "nbformat_minor": 0,
  "metadata": {
    "kernelspec": {
      "display_name": "Python 3",
      "language": "python",
      "name": "python3"
    },
    "language_info": {
      "codemirror_mode": {
        "name": "ipython",
        "version": 3
      },
      "file_extension": ".py",
      "mimetype": "text/x-python",
      "name": "python",
      "nbconvert_exporter": "python",
      "pygments_lexer": "ipython3",
      "version": "3.7.3"
    },
    "colab": {
      "name": "pythainlp-get-started.ipynb",
      "version": "0.3.2",
      "provenance": []
    }
  },
  "cells": [
    {
      "cell_type": "markdown",
      "metadata": {
        "id": "95NMZPcoi2tz",
        "colab_type": "text"
      },
      "source": [
        "# PyThaiNLP Get Started\n",
        "\n",
        "Code examples for basic functions in PyThaiNLP https://github.com/PyThaiNLP/pythainlp"
      ]
    },
    {
      "cell_type": "code",
      "metadata": {
        "id": "mHps7CPTjctj",
        "colab_type": "code",
        "colab": {
          "base_uri": "https://localhost:8080/",
          "height": 156
        },
        "outputId": "a4a0d709-2008-44bb-8564-e96c2eca8995"
      },
      "source": [
        "!pip install ssg\n",
        "!pip install -q https://github.com/PyThaiNLP/pythainlp/archive/dev.zip\n"
      ],
      "execution_count": 2,
      "outputs": [
        {
          "output_type": "stream",
          "text": [
            "Requirement already satisfied: ssg in /usr/local/lib/python3.6/dist-packages (0.0.4)\n",
            "Requirement already satisfied: fire==0.1.3 in /usr/local/lib/python3.6/dist-packages (from ssg) (0.1.3)\n",
            "Requirement already satisfied: python-crfsuite==0.9.6 in /usr/local/lib/python3.6/dist-packages (from ssg) (0.9.6)\n",
            "Requirement already satisfied: tqdm==4.32.2 in /usr/local/lib/python3.6/dist-packages (from ssg) (4.32.2)\n",
            "Requirement already satisfied: six in /usr/local/lib/python3.6/dist-packages (from fire==0.1.3->ssg) (1.12.0)\n",
            "\u001b[K     | 16.0MB 3.3MB/s\n",
            "\u001b[?25h  Building wheel for pythainlp (setup.py) ... \u001b[?25l\u001b[?25hdone\n"
          ],
          "name": "stdout"
        }
      ]
    },
    {
      "cell_type": "markdown",
      "metadata": {
        "id": "82YCLuRai2t1",
        "colab_type": "text"
      },
      "source": [
        "## Thai Characters\n",
        "\n",
        "PyThaiNLP provides some ready-to-use Thai character set (e.g. Thai consonants, vowels, tonemarks, symbols) as a string for convenience. There are also few utility functions to test if a string is in Thai or not."
      ]
    },
    {
      "cell_type": "code",
      "metadata": {
        "id": "bzEhLDA1i2t2",
        "colab_type": "code",
        "colab": {
          "base_uri": "https://localhost:8080/",
          "height": 34
        },
        "outputId": "7e9e4958-a9ac-49c4-c9aa-9c91186eeb06"
      },
      "source": [
        "import pythainlp\n",
        "\n",
        "pythainlp.thai_characters"
      ],
      "execution_count": 3,
      "outputs": [
        {
          "output_type": "execute_result",
          "data": {
            "text/plain": [
              "'กขฃคฅฆงจฉชซฌญฎฏฐฑฒณดตถทธนบปผฝพฟภมยรลวศษสหฬอฮฤฦะัาำิีึืุูเแโใไๅ็่้๊๋ฯๆฺ์ํ๎๏๚๛๐๑๒๓๔๕๖๗๘๙฿'"
            ]
          },
          "metadata": {
            "tags": []
          },
          "execution_count": 3
        }
      ]
    },
    {
      "cell_type": "code",
      "metadata": {
        "id": "v7pper1ii2t8",
        "colab_type": "code",
        "colab": {},
        "outputId": "2690b5b7-1a87-4d2a-e9f9-35a6f70cec89"
      },
      "source": [
        "pythainlp.thai_consonants"
      ],
      "execution_count": 0,
      "outputs": [
        {
          "output_type": "execute_result",
          "data": {
            "text/plain": [
              "'กขฃคฅฆงจฉชซฌญฎฏฐฑฒณดตถทธนบปผฝพฟภมยรลวศษสหฬอฮ'"
            ]
          },
          "metadata": {
            "tags": []
          },
          "execution_count": 2
        }
      ]
    },
    {
      "cell_type": "code",
      "metadata": {
        "id": "MrwXNxnsi2t_",
        "colab_type": "code",
        "colab": {},
        "outputId": "44aafa00-9c16-4d67-97a7-a90c6264de46"
      },
      "source": [
        "\"๔\" in pythainlp.thai_digits"
      ],
      "execution_count": 0,
      "outputs": [
        {
          "output_type": "execute_result",
          "data": {
            "text/plain": [
              "True"
            ]
          },
          "metadata": {
            "tags": []
          },
          "execution_count": 3
        }
      ]
    },
    {
      "cell_type": "code",
      "metadata": {
        "id": "W9iD6pm0i2uC",
        "colab_type": "code",
        "colab": {},
        "outputId": "c37f8fd5-c6a8-4684-c599-65ad43bbe354"
      },
      "source": [
        "import pythainlp.util\n",
        "\n",
        "pythainlp.util.isthai(\"ก\")"
      ],
      "execution_count": 0,
      "outputs": [
        {
          "output_type": "execute_result",
          "data": {
            "text/plain": [
              "True"
            ]
          },
          "metadata": {
            "tags": []
          },
          "execution_count": 4
        }
      ]
    },
    {
      "cell_type": "code",
      "metadata": {
        "id": "LHEpfQLni2uE",
        "colab_type": "code",
        "colab": {},
        "outputId": "43f60d4f-72ac-4383-e163-aedcb27f1df1"
      },
      "source": [
        "pythainlp.util.isthai(\"(ก.พ.)\")"
      ],
      "execution_count": 0,
      "outputs": [
        {
          "output_type": "execute_result",
          "data": {
            "text/plain": [
              "False"
            ]
          },
          "metadata": {
            "tags": []
          },
          "execution_count": 5
        }
      ]
    },
    {
      "cell_type": "code",
      "metadata": {
        "id": "-YKZbUeJi2uG",
        "colab_type": "code",
        "colab": {},
        "outputId": "b7d0b055-eaf8-43c4-8563-9825b811d39d"
      },
      "source": [
        "pythainlp.util.isthai(\"(ก.พ.)\", ignore_chars=\".()\")"
      ],
      "execution_count": 0,
      "outputs": [
        {
          "output_type": "execute_result",
          "data": {
            "text/plain": [
              "True"
            ]
          },
          "metadata": {
            "tags": []
          },
          "execution_count": 6
        }
      ]
    },
    {
      "cell_type": "code",
      "metadata": {
        "id": "zJd6EGssi2uI",
        "colab_type": "code",
        "colab": {},
        "outputId": "c6c91a06-3560-4465-d2f0-00eacb3a3322"
      },
      "source": [
        "pythainlp.util.countthai(\"วันอาทิตย์ที่ 24 มีนาคม 2562\")"
      ],
      "execution_count": 0,
      "outputs": [
        {
          "output_type": "execute_result",
          "data": {
            "text/plain": [
              "100.0"
            ]
          },
          "metadata": {
            "tags": []
          },
          "execution_count": 7
        }
      ]
    },
    {
      "cell_type": "code",
      "metadata": {
        "id": "2rt8eJAci2uL",
        "colab_type": "code",
        "colab": {},
        "outputId": "b2e5c5f9-3e44-4b7e-ba8a-ddf838ce72d8"
      },
      "source": [
        "pythainlp.util.countthai(\"วันอาทิตย์ที่ 24 มีนาคม 2562\", ignore_chars=\"\")"
      ],
      "execution_count": 0,
      "outputs": [
        {
          "output_type": "execute_result",
          "data": {
            "text/plain": [
              "67.85714285714286"
            ]
          },
          "metadata": {
            "tags": []
          },
          "execution_count": 8
        }
      ]
    },
    {
      "cell_type": "markdown",
      "metadata": {
        "id": "LDduztWni2uN",
        "colab_type": "text"
      },
      "source": [
        "## Collation\n",
        "\n",
        "Sorting according to Thai dictionary."
      ]
    },
    {
      "cell_type": "code",
      "metadata": {
        "id": "k49GILMGi2uO",
        "colab_type": "code",
        "colab": {},
        "outputId": "9b46dc75-24d0-4643-ca90-483e319743a6"
      },
      "source": [
        "from pythainlp.util import collate\n",
        "\n",
        "thai_words = [\"ค้อน\", \"กระดาษ\", \"กรรไกร\", \"ไข่\", \"ผ้าไหม\"]\n",
        "collate(thai_words)"
      ],
      "execution_count": 0,
      "outputs": [
        {
          "output_type": "execute_result",
          "data": {
            "text/plain": [
              "['กรรไกร', 'กระดาษ', 'ไข่', 'ค้อน', 'ผ้าไหม']"
            ]
          },
          "metadata": {
            "tags": []
          },
          "execution_count": 9
        }
      ]
    },
    {
      "cell_type": "code",
      "metadata": {
        "id": "AQ5Ojsbvi2uS",
        "colab_type": "code",
        "colab": {},
        "outputId": "cca83733-429a-47ff-9858-4e89f864fa8e"
      },
      "source": [
        "collate(thai_words, reverse=True)"
      ],
      "execution_count": 0,
      "outputs": [
        {
          "output_type": "execute_result",
          "data": {
            "text/plain": [
              "['ผ้าไหม', 'ค้อน', 'ไข่', 'กระดาษ', 'กรรไกร']"
            ]
          },
          "metadata": {
            "tags": []
          },
          "execution_count": 10
        }
      ]
    },
    {
      "cell_type": "markdown",
      "metadata": {
        "id": "0lHVZ4MAi2uV",
        "colab_type": "text"
      },
      "source": [
        "## Date and Time Format\n",
        "\n",
        "Get Thai day and month names with Thai Buddhist Era (B.E.).\n",
        "Use formatting directives similar to datetime.strftime()."
      ]
    },
    {
      "cell_type": "code",
      "metadata": {
        "id": "wlRQkz4Mi2uW",
        "colab_type": "code",
        "colab": {},
        "outputId": "32a4d6c0-c738-4611-8f47-95a2b78fd432"
      },
      "source": [
        "import datetime\n",
        "from pythainlp.util import thai_strftime\n",
        "\n",
        "fmt = \"%Aที่ %-d %B พ.ศ. %Y เวลา %H:%M น. (%a %d-%b-%y)\"\n",
        "date = datetime.datetime(1976, 10, 6, 1, 40)\n",
        "\n",
        "thai_strftime(date, fmt)"
      ],
      "execution_count": 0,
      "outputs": [
        {
          "output_type": "execute_result",
          "data": {
            "text/plain": [
              "'วันพุธที่ 6 ตุลาคม พ.ศ. 2519 เวลา 01:40 น. (พ 06-ต.ค.-19)'"
            ]
          },
          "metadata": {
            "tags": []
          },
          "execution_count": 11
        }
      ]
    },
    {
      "cell_type": "markdown",
      "metadata": {
        "id": "yAi-KgkUi2uZ",
        "colab_type": "text"
      },
      "source": [
        "## Tokenization"
      ]
    },
    {
      "cell_type": "markdown",
      "metadata": {
        "id": "VyaUh6T1i2uZ",
        "colab_type": "text"
      },
      "source": [
        "### Sentence and Word\n",
        "\n",
        "Default word tokenizer (\"newmm\") use maximum matching algorithm."
      ]
    },
    {
      "cell_type": "code",
      "metadata": {
        "id": "9K7Nlhdli2ua",
        "colab_type": "code",
        "colab": {},
        "outputId": "124d4537-c49f-4839-9cd8-837503cf87b8"
      },
      "source": [
        "from pythainlp import sent_tokenize, word_tokenize\n",
        "\n",
        "text = \"ฉันรักภาษาไทย เพราะฉันใช้ภาษาไทย \"\n",
        "\n",
        "print(\"sent_tokenize:\", sent_tokenize(text))\n",
        "print(\"word_tokenize:\", word_tokenize(text))\n",
        "print(\"word_tokenize, without whitespace:\", word_tokenize(text, keep_whitespace=False))"
      ],
      "execution_count": 0,
      "outputs": [
        {
          "output_type": "stream",
          "text": [
            "sent_tokenize: ['ฉันรักภาษาไทย', 'เพราะฉันใช้ภาษาไทย']\n",
            "word_tokenize: ['ฉัน', 'รัก', 'ภาษาไทย', ' ', 'เพราะ', 'ฉัน', 'ใช้', 'ภาษาไทย', ' ']\n",
            "word_tokenize, without whitespace: ['ฉัน', 'รัก', 'ภาษาไทย', 'เพราะ', 'ฉัน', 'ใช้', 'ภาษาไทย']\n"
          ],
          "name": "stdout"
        }
      ]
    },
    {
      "cell_type": "markdown",
      "metadata": {
        "id": "tEllILeBi2uc",
        "colab_type": "text"
      },
      "source": [
        "Other algorithm can be chosen. We can also create a tokenizer with custom dictionary."
      ]
    },
    {
      "cell_type": "code",
      "metadata": {
        "id": "gSDkX02wi2ud",
        "colab_type": "code",
        "colab": {},
        "outputId": "3ba683b5-264d-43db-bfc4-7b888944dd07"
      },
      "source": [
        "from pythainlp import word_tokenize, Tokenizer\n",
        "\n",
        "text = \"กฎหมายแรงงานฉบับปรับปรุงใหม่ประกาศใช้แล้ว\"\n",
        "\n",
        "print(\"newmm:\", word_tokenize(text))  # default engine is \"newmm\"\n",
        "print(\"longest:\", word_tokenize(text, engine=\"longest\"))\n",
        "\n",
        "words = [\"กฎ\", \"งาน\"]\n",
        "custom_tokenizer = Tokenizer(words)\n",
        "print(\"custom:\", custom_tokenizer.word_tokenize(text))"
      ],
      "execution_count": 0,
      "outputs": [
        {
          "output_type": "stream",
          "text": [
            "newmm: ['กฎหมายแรงงาน', 'ฉบับ', 'ปรับปรุง', 'ใหม่', 'ประกาศ', 'ใช้แล้ว']\n",
            "longest: ['กฎหมายแรงงาน', 'ฉบับ', 'ปรับปรุง', 'ใหม่', 'ประกาศใช้', 'แล้ว']\n",
            "custom: ['กฎ', 'หมายแรง', 'งาน', 'ฉบับปรับปรุงใหม่ประกาศใช้แล้ว']\n"
          ],
          "name": "stdout"
        }
      ]
    },
    {
      "cell_type": "markdown",
      "metadata": {
        "id": "1dnj1K28i2uf",
        "colab_type": "text"
      },
      "source": [
        "Default word tokenizer use a word list from pythainlp.corpus.common.thai_words().\n",
        "We can get that list, add/remove words, and create new tokenizer from the modified list."
      ]
    },
    {
      "cell_type": "code",
      "metadata": {
        "id": "kiZ3gIspi2uf",
        "colab_type": "code",
        "colab": {},
        "outputId": "bf8e29ec-4180-41bb-f7a0-0fbc1689a75c"
      },
      "source": [
        "from pythainlp.corpus.common import thai_words\n",
        "from pythainlp import word_tokenize, Tokenizer\n",
        "\n",
        "text = \"ไอแซค อสิมอฟ\"\n",
        "\n",
        "print(\"newmm:\", word_tokenize(text))\n",
        "\n",
        "words = set(thai_words())  # thai_words() returns frozenset\n",
        "words.add(\"อสิมอฟ\")\n",
        "custom_tokenizer = Tokenizer(words)\n",
        "print(\"custom:\", custom_tokenizer.word_tokenize(text))"
      ],
      "execution_count": 0,
      "outputs": [
        {
          "output_type": "stream",
          "text": [
            "newmm: ['ไอแซค', ' ', 'อสิ', 'มอ', 'ฟ']\n",
            "custom: ['ไอแซค', ' ', 'อสิมอฟ']\n"
          ],
          "name": "stdout"
        }
      ]
    },
    {
      "cell_type": "code",
      "metadata": {
        "id": "EElwC1pai2ui",
        "colab_type": "code",
        "colab": {}
      },
      "source": [
        "speedtest_text = \"\"\"\n",
        "ครบรอบ 14 ปี ตากใบ เช้าวันนั้น 25 ต.ค. 2547 ผู้ชุมนุมชายกว่า 1,370 คน\n",
        "ถูกโยนขึ้นรถยีเอ็มซี 22 หรือ 24 คัน นอนซ้อนกันคันละ 4-5 ชั้น เดินทางจากสถานีตำรวจตากใบ ไปไกล 150 กิโลเมตร\n",
        "ไปถึงค่ายอิงคยุทธบริหาร ใช้เวลากว่า 6 ชั่วโมง / ในอีกคดีที่ญาติฟ้องร้องรัฐ คดีจบลงที่การประนีประนอมยอมความ\n",
        "กระทรวงกลาโหมจ่ายค่าสินไหมทดแทนรวม 42 ล้านบาทให้กับญาติผู้เสียหาย 79 ราย\n",
        "ปิดหีบและนับคะแนนเสร็จแล้ว ที่หน่วยเลือกตั้งที่ 32 เขต 13 แขวงหัวหมาก เขตบางกะปิ กรุงเทพมหานคร\n",
        "ผู้สมัคร ส.ส. และตัวแทนพรรคการเมืองจากหลายพรรคต่างมาเฝ้าสังเกตการนับคะแนนอย่างใกล้ชิด โดย\n",
        "ฐิติภัสร์ โชติเดชาชัยนันต์ จากพรรคพลังประชารัฐ และพริษฐ์ วัชรสินธุ จากพรรคประชาธิปัตย์ได้คะแนน\n",
        "96 คะแนนเท่ากัน\n",
        "เช้าวันอาทิตย์ที่ 21 เมษายน 2019 ซึ่งเป็นวันอีสเตอร์ วันสำคัญของชาวคริสต์\n",
        "เกิดเหตุระเบิดต่อเนื่องในโบสถ์คริสต์และโรงแรมอย่างน้อย 7 แห่งในประเทศศรีลังกา\n",
        "มีผู้เสียชีวิตแล้วอย่างน้อย 156 คน และบาดเจ็บหลายร้อยคน ยังไม่มีข้อมูลว่าผู้ก่อเหตุมาจากฝ่ายใด\n",
        "จีนกำหนดจัดการประชุมข้อริเริ่มสายแถบและเส้นทางในช่วงปลายสัปดาห์นี้ ปักกิ่งยืนยันว่า\n",
        "อภิมหาโครงการเชื่อมโลกของจีนไม่ใช่เครื่องมือแผ่อิทธิพล แต่ยินดีรับฟังข้อวิจารณ์ เช่น ประเด็นกับดักหนี้สิน\n",
        "และความไม่โปร่งใส รัฐบาลปักกิ่งบอกว่า เวทีประชุม Belt and Road Forum ในช่วงวันที่ 25-27 เมษายน\n",
        "ถือเป็นงานการทูตที่สำคัญที่สุดของจีนในปี 2019\n",
        "\"\"\""
      ],
      "execution_count": 0,
      "outputs": []
    },
    {
      "cell_type": "code",
      "metadata": {
        "id": "UzFdCT3ji2uj",
        "colab_type": "code",
        "colab": {},
        "outputId": "3204a64a-8b8f-4180-84fd-1acb3a6f238e"
      },
      "source": [
        "# Speed test: Calling \"longest\" engine through word_tokenize wrapper\n",
        "%time tokens = word_tokenize(speedtest_text, engine=\"longest\")"
      ],
      "execution_count": 0,
      "outputs": [
        {
          "output_type": "stream",
          "text": [
            "CPU times: user 1.05 s, sys: 8.68 ms, total: 1.06 s\n",
            "Wall time: 1.08 s\n"
          ],
          "name": "stdout"
        }
      ]
    },
    {
      "cell_type": "code",
      "metadata": {
        "id": "OjCBcE6Wi2ul",
        "colab_type": "code",
        "colab": {},
        "outputId": "71f9139f-8b59-4932-9760-9e3196722d7e"
      },
      "source": [
        "# Speed test: Calling \"newmm\" engine through word_tokenize wrapper\n",
        "%time tokens = word_tokenize(speedtest_text, engine=\"newmm\")"
      ],
      "execution_count": 0,
      "outputs": [
        {
          "output_type": "stream",
          "text": [
            "CPU times: user 11.6 ms, sys: 235 µs, total: 11.8 ms\n",
            "Wall time: 11.8 ms\n"
          ],
          "name": "stdout"
        }
      ]
    },
    {
      "cell_type": "code",
      "metadata": {
        "id": "qiXvSgcai2un",
        "colab_type": "code",
        "colab": {},
        "outputId": "459a326e-444c-46b1-e496-69adbe7def66"
      },
      "source": [
        "# Speed test: Directly call \"newmm\" engine from pythainlp.tokenize.newmm\n",
        "%time tokens = pythainlp.tokenize.newmm.segment(speedtest_text)"
      ],
      "execution_count": 0,
      "outputs": [
        {
          "output_type": "stream",
          "text": [
            "CPU times: user 10.6 ms, sys: 562 µs, total: 11.1 ms\n",
            "Wall time: 12.4 ms\n"
          ],
          "name": "stdout"
        }
      ]
    },
    {
      "cell_type": "code",
      "metadata": {
        "id": "IS44U0S8i2ur",
        "colab_type": "code",
        "colab": {},
        "outputId": "5e5be921-6e37-4935-9dc1-26ad3ff2bddc"
      },
      "source": [
        "# Get all possible segmentations\n",
        "from pythainlp.tokenize.multi_cut import find_all_segment, mmcut, segment\n",
        "\n",
        "find_all_segment(\"มีความเป็นไปได้อย่างไรบ้าง\")"
      ],
      "execution_count": 0,
      "outputs": [
        {
          "output_type": "execute_result",
          "data": {
            "text/plain": [
              "['มี|ความ|เป็น|ไป|ได้|อย่าง|ไร|บ้าง|',\n",
              " 'มี|ความ|เป็นไป|ได้|อย่าง|ไร|บ้าง|',\n",
              " 'มี|ความ|เป็นไปได้|อย่าง|ไร|บ้าง|',\n",
              " 'มี|ความเป็นไป|ได้|อย่าง|ไร|บ้าง|',\n",
              " 'มี|ความเป็นไปได้|อย่าง|ไร|บ้าง|',\n",
              " 'มี|ความ|เป็น|ไป|ได้|อย่างไร|บ้าง|',\n",
              " 'มี|ความ|เป็นไป|ได้|อย่างไร|บ้าง|',\n",
              " 'มี|ความ|เป็นไปได้|อย่างไร|บ้าง|',\n",
              " 'มี|ความเป็นไป|ได้|อย่างไร|บ้าง|',\n",
              " 'มี|ความเป็นไปได้|อย่างไร|บ้าง|',\n",
              " 'มี|ความ|เป็น|ไป|ได้|อย่างไรบ้าง|',\n",
              " 'มี|ความ|เป็นไป|ได้|อย่างไรบ้าง|',\n",
              " 'มี|ความ|เป็นไปได้|อย่างไรบ้าง|',\n",
              " 'มี|ความเป็นไป|ได้|อย่างไรบ้าง|',\n",
              " 'มี|ความเป็นไปได้|อย่างไรบ้าง|']"
            ]
          },
          "metadata": {
            "tags": []
          },
          "execution_count": 19
        }
      ]
    },
    {
      "cell_type": "markdown",
      "metadata": {
        "id": "FtPlSVnai2uv",
        "colab_type": "text"
      },
      "source": [
        "### Subword and Thai Character Cluster (TCC)\n",
        "\n",
        "According to [Character Cluster Based Thai Information Retrieval](https://www.researchgate.net/publication/2853284_Character_Cluster_Based_Thai_Information_Retrieval) (Theeramunkong et al. 2004)."
      ]
    },
    {
      "cell_type": "code",
      "metadata": {
        "id": "KULZlKy-i2uw",
        "colab_type": "code",
        "colab": {},
        "outputId": "9cbbbc5a-8c71-4531-e652-3edfb72714d0"
      },
      "source": [
        "from pythainlp import subword_tokenize\n",
        "\n",
        "subword_tokenize(\"ประเทศไทย\")"
      ],
      "execution_count": 0,
      "outputs": [
        {
          "output_type": "execute_result",
          "data": {
            "text/plain": [
              "['ป', 'ระ', 'เท', 'ศ', 'ไท', 'ย']"
            ]
          },
          "metadata": {
            "tags": []
          },
          "execution_count": 20
        }
      ]
    },
    {
      "cell_type": "markdown",
      "metadata": {
        "id": "c5CUBUdDi2uz",
        "colab_type": "text"
      },
      "source": [
        "Low-level TCC operations"
      ]
    },
    {
      "cell_type": "code",
      "metadata": {
        "id": "BzvS_730i2u0",
        "colab_type": "code",
        "colab": {},
        "outputId": "9c35cde3-195e-426f-9c74-288b201751fe"
      },
      "source": [
        "from pythainlp.tokenize import tcc\n",
        "\n",
        "tcc.segment(\"ประเทศไทย\")"
      ],
      "execution_count": 0,
      "outputs": [
        {
          "output_type": "execute_result",
          "data": {
            "text/plain": [
              "['ป', 'ระ', 'เท', 'ศ', 'ไท', 'ย']"
            ]
          },
          "metadata": {
            "tags": []
          },
          "execution_count": 21
        }
      ]
    },
    {
      "cell_type": "code",
      "metadata": {
        "id": "z9sFs5tVi2u2",
        "colab_type": "code",
        "colab": {},
        "outputId": "516b8b9d-22fb-4316-a285-b1616d7831ec"
      },
      "source": [
        "tcc.tcc_pos(\"ประเทศไทย\")  # return positions"
      ],
      "execution_count": 0,
      "outputs": [
        {
          "output_type": "execute_result",
          "data": {
            "text/plain": [
              "{1, 3, 5, 6, 8, 9}"
            ]
          },
          "metadata": {
            "tags": []
          },
          "execution_count": 22
        }
      ]
    },
    {
      "cell_type": "code",
      "metadata": {
        "id": "Bt1CASkpi2u6",
        "colab_type": "code",
        "colab": {},
        "outputId": "3f86750e-f7ed-492b-ea0c-c03d9b9de7e8"
      },
      "source": [
        "for ch in tcc.tcc(\"ประเทศไทย\"):  # generator\n",
        "    print(ch, end='-')"
      ],
      "execution_count": 0,
      "outputs": [
        {
          "output_type": "stream",
          "text": [
            "ป-ระ-เท-ศ-ไท-ย-"
          ],
          "name": "stdout"
        }
      ]
    },
    {
      "cell_type": "markdown",
      "metadata": {
        "id": "KjgdpzTcjoam",
        "colab_type": "text"
      },
      "source": [
        "### Syllable Tokenization\n",
        "\n",
        "By default, `syllable_tokenize` uses dictionary-based approach to tokenize Thai syllable from the text.\n",
        "\n",
        "If the argument `engine` is specified as 'ssg', the [CRF syllable segmenter for Thai](https://github.com/ponrawee/ssg) will be used.\n",
        "\n"
      ]
    },
    {
      "cell_type": "code",
      "metadata": {
        "id": "_tQ9r7D2kNcY",
        "colab_type": "code",
        "colab": {}
      },
      "source": [
        "from pythainlp.tokenize import syllable_tokenize"
      ],
      "execution_count": 0,
      "outputs": []
    },
    {
      "cell_type": "code",
      "metadata": {
        "id": "0vWe0im6kIOH",
        "colab_type": "code",
        "colab": {
          "base_uri": "https://localhost:8080/",
          "height": 88
        },
        "outputId": "3720aae2-a4ab-4f1b-bd85-3498e6da4dfb"
      },
      "source": [
        "print(\"default:\", syllable_tokenize(\"Thai syllable พยางค์ในภาษาไทย\"))\n",
        "print(\"default:\", syllable_tokenize(\"ความทุกข์ยากของชนชั้นชาวนา\"))\n",
        "print(\"default:\", syllable_tokenize(\"พญาวสวัตตีมาราธิราช แห่งปรนิมมิตวสวัตตี ()\"))\n"
      ],
      "execution_count": 21,
      "outputs": [
        {
          "output_type": "stream",
          "text": [
            "default: ['Thai', ' ', 'syllable', ' ', 'พยางค์', 'ใน', 'ภา', 'ษา', 'ไทย']\n",
            "default: ['ความ', 'ทุกข์', 'ยาก', 'ของ', 'ชน', 'ชั้น', 'ชา', 'วนา']\n",
            "default: ['พญา', 'วส', 'วัต', 'ตี', 'มา', 'รา', 'ธิ', 'ราช', ' ', 'แห่ง', 'ปร', 'นิ', 'ม', 'มิต', 'วส', 'วัต', 'ตี', ' ', '()']\n"
          ],
          "name": "stdout"
        }
      ]
    },
    {
      "cell_type": "code",
      "metadata": {
        "id": "aQ3SiXcpkIVt",
        "colab_type": "code",
        "colab": {
          "base_uri": "https://localhost:8080/",
          "height": 68
        },
        "outputId": "a1195ea4-61c4-4396-f916-453fcb4c7ea8"
      },
      "source": [
        "print(\"ssg:\", syllable_tokenize(\"Thai syllable พยางค์ในภาษาไทย\", engine='ssg'))\n",
        "print(\"ssg:\", syllable_tokenize(\"ความทุกข์ยากของชนชั้นชาวนา\", engine='ssg'))\n",
        "print(\"ssg:\", syllable_tokenize(\"พญาวสวัตตีมาราธิราช แห่งปรนิมมิตวสวัตตี ()\", engine='ssg'))\n"
      ],
      "execution_count": 22,
      "outputs": [
        {
          "output_type": "stream",
          "text": [
            "ssg: ['Thai syllable พยางค์', 'ใน', 'ภา', 'ษา', 'ไทย']\n",
            "ssg: ['ความ', 'ทุกข์', 'ยาก', 'ของ', 'ชน', 'ชั้น', 'ชาว', 'นา']\n",
            "ssg: ['พญาว', 'สวัต', 'ตี', 'มา', 'รา', 'ธิ', 'ราช', ' ', 'แห่ง', 'ปร', 'นิม', 'มิต', 'วส', 'วัต', 'ตี ', '(', ')']\n"
          ],
          "name": "stdout"
        }
      ]
    },
    {
      "cell_type": "markdown",
      "metadata": {
        "id": "Wj9S9Brii2u8",
        "colab_type": "text"
      },
      "source": [
        "## Transliteration"
      ]
    },
    {
      "cell_type": "code",
      "metadata": {
        "id": "39pu7iNwi2u9",
        "colab_type": "code",
        "colab": {},
        "outputId": "d694e693-d155-4e50-ec54-03ce2357b66c"
      },
      "source": [
        "from pythainlp.transliterate import romanize\n",
        "\n",
        "romanize(\"แมว\")"
      ],
      "execution_count": 0,
      "outputs": [
        {
          "output_type": "execute_result",
          "data": {
            "text/plain": [
              "'maeo'"
            ]
          },
          "metadata": {
            "tags": []
          },
          "execution_count": 24
        }
      ]
    },
    {
      "cell_type": "code",
      "metadata": {
        "id": "nJbWhQpqi2u_",
        "colab_type": "code",
        "colab": {},
        "outputId": "60e1b13d-f739-49e2-d770-d3b21bbd39fa"
      },
      "source": [
        "from pythainlp.transliterate import transliterate\n",
        "\n",
        "transliterate(\"แมว\")"
      ],
      "execution_count": 0,
      "outputs": [
        {
          "output_type": "execute_result",
          "data": {
            "text/plain": [
              "'mɛːw'"
            ]
          },
          "metadata": {
            "tags": []
          },
          "execution_count": 25
        }
      ]
    },
    {
      "cell_type": "code",
      "metadata": {
        "id": "NOAkOC4Ki2vB",
        "colab_type": "code",
        "colab": {}
      },
      "source": [
        "#!pip3 install pythainlp[icu]\n",
        "#transliterate(\"แมว\", engine=\"icu\")"
      ],
      "execution_count": 0,
      "outputs": []
    },
    {
      "cell_type": "markdown",
      "metadata": {
        "id": "54RH6zoii2vD",
        "colab_type": "text"
      },
      "source": [
        "## Normalization"
      ]
    },
    {
      "cell_type": "code",
      "metadata": {
        "id": "J80RULW6i2vD",
        "colab_type": "code",
        "colab": {},
        "outputId": "de586f79-9a0f-438c-b286-96ae22a5cc4f"
      },
      "source": [
        "from pythainlp.util import normalize\n",
        "\n",
        "normalize(\"เเปลก\") == \"แปลก\"  # เ เ ป ล ก  vs แปลก"
      ],
      "execution_count": 0,
      "outputs": [
        {
          "output_type": "execute_result",
          "data": {
            "text/plain": [
              "True"
            ]
          },
          "metadata": {
            "tags": []
          },
          "execution_count": 27
        }
      ]
    },
    {
      "cell_type": "markdown",
      "metadata": {
        "id": "TKNrSjG_i2vH",
        "colab_type": "text"
      },
      "source": [
        "## Soundex\n",
        "\n",
        "\"Soundex is a phonetic algorithm for indexing names by sound.\" ([Wikipedia](https://en.wikipedia.org/wiki/Soundex)). PyThaiNLP provides three kinds of Thai soundex."
      ]
    },
    {
      "cell_type": "code",
      "metadata": {
        "id": "f2O86T3Ji2vI",
        "colab_type": "code",
        "colab": {},
        "outputId": "33816b51-745f-412a-c8cb-300bbd3d16f4"
      },
      "source": [
        "from pythainlp.soundex import lk82, metasound, udom83\n",
        "\n",
        "# check equivalence\n",
        "print(lk82(\"รถ\") == lk82(\"รด\"))\n",
        "print(udom83(\"วรร\") == udom83(\"วัน\"))\n",
        "print(metasound(\"นพ\") == metasound(\"นภ\"))"
      ],
      "execution_count": 0,
      "outputs": [
        {
          "output_type": "stream",
          "text": [
            "True\n",
            "True\n",
            "True\n"
          ],
          "name": "stdout"
        }
      ]
    },
    {
      "cell_type": "code",
      "metadata": {
        "id": "90h44miqi2vL",
        "colab_type": "code",
        "colab": {},
        "outputId": "36e71c2e-cd93-45ea-ef54-52c6ed02942b"
      },
      "source": [
        "texts = [\"บูรณะ\", \"บูรณการ\", \"มัก\", \"มัค\", \"มรรค\", \"ลัก\", \"รัก\", \"รักษ์\", \"\"]\n",
        "for text in texts:\n",
        "    print(\n",
        "        \"{} - lk82: {} - udom83: {} - metasound: {}\".format(\n",
        "            text, lk82(text), udom83(text), metasound(text)\n",
        "        )\n",
        "    )"
      ],
      "execution_count": 0,
      "outputs": [
        {
          "output_type": "stream",
          "text": [
            "บูรณะ - lk82: บE400 - udom83: บ930000 - metasound: บ550\n",
            "บูรณการ - lk82: บE419 - udom83: บ931900 - metasound: บ551\n",
            "มัก - lk82: ม1000 - udom83: ม100000 - metasound: ม100\n",
            "มัค - lk82: ม1000 - udom83: ม100000 - metasound: ม100\n",
            "มรรค - lk82: ม1000 - udom83: ม310000 - metasound: ม551\n",
            "ลัก - lk82: ร1000 - udom83: ร100000 - metasound: ล100\n",
            "รัก - lk82: ร1000 - udom83: ร100000 - metasound: ร100\n",
            "รักษ์ - lk82: ร1000 - udom83: ร100000 - metasound: ร100\n",
            " - lk82:  - udom83:  - metasound: \n"
          ],
          "name": "stdout"
        }
      ]
    },
    {
      "cell_type": "markdown",
      "metadata": {
        "id": "ntdONb-Wi2vN",
        "colab_type": "text"
      },
      "source": [
        "## Spellchecking\n",
        "\n",
        "Default spellchecker uses [Peter Norvig's algorithm](http://www.norvig.com/spell-correct.html) together with word frequency from Thai National Corpus (TNC)"
      ]
    },
    {
      "cell_type": "code",
      "metadata": {
        "id": "7oxYnsEKi2vO",
        "colab_type": "code",
        "colab": {},
        "outputId": "51f0f296-c49a-4415-9395-16275cf2459b"
      },
      "source": [
        "from pythainlp import spell\n",
        "\n",
        "# list possible spellings\n",
        "spell(\"เหลืยม\")"
      ],
      "execution_count": 0,
      "outputs": [
        {
          "output_type": "execute_result",
          "data": {
            "text/plain": [
              "['เหลียม', 'เหลือม']"
            ]
          },
          "metadata": {
            "tags": []
          },
          "execution_count": 30
        }
      ]
    },
    {
      "cell_type": "code",
      "metadata": {
        "id": "4HId3HaKi2vQ",
        "colab_type": "code",
        "colab": {},
        "outputId": "94772379-54ca-437a-baca-21a0dcab14de"
      },
      "source": [
        "from pythainlp import correct\n",
        "\n",
        "# choose the most likely spelling\n",
        "correct(\"เหลืยม\")"
      ],
      "execution_count": 0,
      "outputs": [
        {
          "output_type": "execute_result",
          "data": {
            "text/plain": [
              "'เหลียม'"
            ]
          },
          "metadata": {
            "tags": []
          },
          "execution_count": 31
        }
      ]
    },
    {
      "cell_type": "markdown",
      "metadata": {
        "id": "wPMDz0ITi2vX",
        "colab_type": "text"
      },
      "source": [
        "## Spellchecking - Custom dictionary and word frequency\n",
        "\n",
        "Custom dictionary can be provided when creating spellchecker."
      ]
    },
    {
      "cell_type": "code",
      "metadata": {
        "id": "kYxjPfpUi2vY",
        "colab_type": "code",
        "colab": {},
        "outputId": "5d7ec532-2333-405d-a7f6-4073569fc055"
      },
      "source": [
        "from pythainlp.corpus import ttc  # Thai Textbook Corpus\n",
        "from pythainlp.spell import NorvigSpellChecker\n",
        "\n",
        "checker = NorvigSpellChecker(custom_dict=ttc.word_freqs())\n",
        "print(checker.spell(\"เหลืยม\"))\n",
        "print(checker.correct(\"เหลืยม\"))"
      ],
      "execution_count": 0,
      "outputs": [
        {
          "output_type": "stream",
          "text": [
            "['เหลือม']\n",
            "เหลือม\n"
          ],
          "name": "stdout"
        }
      ]
    },
    {
      "cell_type": "code",
      "metadata": {
        "id": "YIXG31hei2va",
        "colab_type": "code",
        "colab": {},
        "outputId": "e3ff1914-237e-4602-9e64-cb000950a756"
      },
      "source": [
        "list(checker.dictionary())[1:10]"
      ],
      "execution_count": 0,
      "outputs": [
        {
          "output_type": "execute_result",
          "data": {
            "text/plain": [
              "[('ดวงๆ', 3),\n",
              " ('กระพือ', 6),\n",
              " ('อุปสมบท', 17),\n",
              " ('หาเช้ากินค่ำ', 14),\n",
              " ('จะเห็นได้ว่า', 152),\n",
              " ('ยวด', 2),\n",
              " ('กล่อม', 182),\n",
              " ('เต้า', 37),\n",
              " ('จัว', 2)]"
            ]
          },
          "metadata": {
            "tags": []
          },
          "execution_count": 33
        }
      ]
    },
    {
      "cell_type": "markdown",
      "metadata": {
        "id": "xrZBY588i2vc",
        "colab_type": "text"
      },
      "source": [
        "We can also apply conditions and filter function to dictionary when creating spellchecker."
      ]
    },
    {
      "cell_type": "code",
      "metadata": {
        "id": "6utMZjOli2vc",
        "colab_type": "code",
        "colab": {},
        "outputId": "fb21c036-7d6b-4efd-9c5d-f95891f98973"
      },
      "source": [
        "checker = NorvigSpellChecker()  # use default filter (remove any word with number or non-Thai character)\n",
        "len(checker.dictionary())"
      ],
      "execution_count": 0,
      "outputs": [
        {
          "output_type": "execute_result",
          "data": {
            "text/plain": [
              "39977"
            ]
          },
          "metadata": {
            "tags": []
          },
          "execution_count": 34
        }
      ]
    },
    {
      "cell_type": "code",
      "metadata": {
        "id": "Ah5Xw74Si2ve",
        "colab_type": "code",
        "colab": {},
        "outputId": "aba5b509-35dd-4f0e-b598-ea81da515720"
      },
      "source": [
        "checker = NorvigSpellChecker(min_freq=5, min_len=2, max_len=15)\n",
        "len(checker.dictionary())"
      ],
      "execution_count": 0,
      "outputs": [
        {
          "output_type": "execute_result",
          "data": {
            "text/plain": [
              "30379"
            ]
          },
          "metadata": {
            "tags": []
          },
          "execution_count": 35
        }
      ]
    },
    {
      "cell_type": "code",
      "metadata": {
        "id": "hOC7tMg4i2vg",
        "colab_type": "code",
        "colab": {},
        "outputId": "65c192d3-c931-461d-fd12-c50104de5aac"
      },
      "source": [
        "checker_no_filter = NorvigSpellChecker(dict_filter=None)  # use no filter\n",
        "len(checker_no_filter.dictionary())"
      ],
      "execution_count": 0,
      "outputs": [
        {
          "output_type": "execute_result",
          "data": {
            "text/plain": [
              "76706"
            ]
          },
          "metadata": {
            "tags": []
          },
          "execution_count": 36
        }
      ]
    },
    {
      "cell_type": "code",
      "metadata": {
        "id": "YNa3iYKQi2vj",
        "colab_type": "code",
        "colab": {},
        "outputId": "8da63249-00be-4218-c35e-3c95ff289b39"
      },
      "source": [
        "def remove_yamok(word):\n",
        "    return False if \"ๆ\" in word else True\n",
        "\n",
        "checker_custom_filter = NorvigSpellChecker(dict_filter=remove_yamok)  # use custom filter\n",
        "len(checker_custom_filter.dictionary())"
      ],
      "execution_count": 0,
      "outputs": [
        {
          "output_type": "execute_result",
          "data": {
            "text/plain": [
              "76700"
            ]
          },
          "metadata": {
            "tags": []
          },
          "execution_count": 37
        }
      ]
    },
    {
      "cell_type": "markdown",
      "metadata": {
        "id": "ewBTrmcti2vl",
        "colab_type": "text"
      },
      "source": [
        "## Part-of-Speech Tagging"
      ]
    },
    {
      "cell_type": "code",
      "metadata": {
        "id": "hWhPwMAri2vl",
        "colab_type": "code",
        "colab": {},
        "outputId": "4b77339c-25a9-4b07-fd0e-81a96de31838"
      },
      "source": [
        "from pythainlp.tag import pos_tag, pos_tag_sents\n",
        "\n",
        "pos_tag([\"การ\",\"เดินทาง\"])"
      ],
      "execution_count": 0,
      "outputs": [
        {
          "output_type": "execute_result",
          "data": {
            "text/plain": [
              "[('การ', 'FIXN'), ('เดินทาง', 'VACT')]"
            ]
          },
          "metadata": {
            "tags": []
          },
          "execution_count": 38
        }
      ]
    },
    {
      "cell_type": "code",
      "metadata": {
        "id": "5gpx5y5ai2vo",
        "colab_type": "code",
        "colab": {},
        "outputId": "1f332721-9786-4360-8c2a-2d619f5b3655"
      },
      "source": [
        "sents = [[\"ประกาศสำนักนายกฯ\", \" \", \"ให้\",\n",
        "    \" \", \"'พล.ท.สรรเสริญ แก้วกำเนิด'\", \" \", \"พ้นจากตำแหน่ง\",\n",
        "    \" \", \"ผู้ทรงคุณวุฒิพิเศษ\", \"กองทัพบก\", \" \", \"กระทรวงกลาโหม\"],\n",
        "    [\"และ\", \"แต่งตั้ง\", \"ให้\", \"เป็น\", \"'อธิบดีกรมประชาสัมพันธ์'\"]]\n",
        "\n",
        "pos_tag_sents(sents)"
      ],
      "execution_count": 0,
      "outputs": [
        {
          "output_type": "execute_result",
          "data": {
            "text/plain": [
              "[[('ประกาศสำนักนายกฯ', 'NCMN'),\n",
              "  (' ', 'PUNC'),\n",
              "  ('ให้', 'JSBR'),\n",
              "  (' ', 'PUNC'),\n",
              "  (\"'พล.ท.สรรเสริญ แก้วกำเนิด'\", 'NCMN'),\n",
              "  (' ', 'PUNC'),\n",
              "  ('พ้นจากตำแหน่ง', 'NCMN'),\n",
              "  (' ', 'PUNC'),\n",
              "  ('ผู้ทรงคุณวุฒิพิเศษ', 'NCMN'),\n",
              "  ('กองทัพบก', 'NCMN'),\n",
              "  (' ', 'PUNC'),\n",
              "  ('กระทรวงกลาโหม', 'NCMN')],\n",
              " [('และ', 'JCRG'),\n",
              "  ('แต่งตั้ง', 'VACT'),\n",
              "  ('ให้', 'JSBR'),\n",
              "  ('เป็น', 'VSTA'),\n",
              "  (\"'อธิบดีกรมประชาสัมพันธ์'\", 'NCMN')]]"
            ]
          },
          "metadata": {
            "tags": []
          },
          "execution_count": 39
        }
      ]
    },
    {
      "cell_type": "markdown",
      "metadata": {
        "id": "ncLMUWNki2vq",
        "colab_type": "text"
      },
      "source": [
        "## Named-Entity Tagging\n",
        "\n",
        "The tagger use BIO scheme:\n",
        "- B - beginning of entity\n",
        "- I - inside entity\n",
        "- O - outside entity"
      ]
    },
    {
      "cell_type": "code",
      "metadata": {
        "id": "nUMwNt8Pi2vv",
        "colab_type": "code",
        "colab": {},
        "outputId": "9fa97a53-9f72-45ba-c503-0848b8621f17"
      },
      "source": [
        "from pythainlp.tag.named_entity import ThaiNameTagger\n",
        "\n",
        "ner = ThaiNameTagger()\n",
        "ner.get_ner(\"15 ก.ย. 61 ทดสอบระบบเวลา 14:49 น. เดินทางจากกทม.ไปจังหวัดกำแพงเพชร ตั๋วราคา 297 บาท\")"
      ],
      "execution_count": 0,
      "outputs": [
        {
          "output_type": "execute_result",
          "data": {
            "text/plain": [
              "[('15', 'NUM', 'B-DATE'),\n",
              " (' ', 'PUNCT', 'I-DATE'),\n",
              " ('ก.ย.', 'NOUN', 'I-DATE'),\n",
              " (' ', 'PUNCT', 'I-DATE'),\n",
              " ('61', 'NUM', 'I-DATE'),\n",
              " (' ', 'PUNCT', 'O'),\n",
              " ('ทดสอบ', 'VERB', 'O'),\n",
              " ('ระบบ', 'NOUN', 'O'),\n",
              " ('เวลา', 'NOUN', 'O'),\n",
              " (' ', 'PUNCT', 'O'),\n",
              " ('14', 'NOUN', 'B-TIME'),\n",
              " (':', 'PUNCT', 'I-TIME'),\n",
              " ('49', 'NUM', 'I-TIME'),\n",
              " (' ', 'PUNCT', 'I-TIME'),\n",
              " ('น.', 'NOUN', 'I-TIME'),\n",
              " (' ', 'PUNCT', 'O'),\n",
              " ('เดินทาง', 'VERB', 'O'),\n",
              " ('จาก', 'ADP', 'O'),\n",
              " ('กทม.', 'NOUN', 'B-LOCATION'),\n",
              " ('ไป', 'AUX', 'O'),\n",
              " ('จังหวัด', 'NOUN', 'B-LOCATION'),\n",
              " ('กำแพงเพชร', 'NOUN', 'I-LOCATION'),\n",
              " (' ', 'PUNCT', 'I-MONEY'),\n",
              " ('ตั๋ว', 'NOUN', 'I-MONEY'),\n",
              " ('ราคา', 'NOUN', 'I-MONEY'),\n",
              " (' ', 'PUNCT', 'I-MONEY'),\n",
              " ('297', 'NUM', 'I-MONEY'),\n",
              " (' ', 'PUNCT', 'I-MONEY'),\n",
              " ('บาท', 'NOUN', 'I-MONEY')]"
            ]
          },
          "metadata": {
            "tags": []
          },
          "execution_count": 40
        }
      ]
    },
    {
      "cell_type": "markdown",
      "metadata": {
        "id": "diJacM5fi2vw",
        "colab_type": "text"
      },
      "source": [
        "## Word Vector"
      ]
    },
    {
      "cell_type": "code",
      "metadata": {
        "id": "tyZG3X-li2vx",
        "colab_type": "code",
        "colab": {},
        "outputId": "d3f0a682-cc7e-43eb-d1ed-860941d4e795"
      },
      "source": [
        "import pythainlp.word_vector\n",
        "\n",
        "pythainlp.word_vector.similarity(\"คน\", \"มนุษย์\")"
      ],
      "execution_count": 0,
      "outputs": [
        {
          "output_type": "stream",
          "text": [
            "INFO:summarizer.preprocessing.cleaner:'pattern' package not found; tag filters are not available for English\n",
            "INFO:gensim.models.utils_any2vec:loading projection weights from /Users/arthit/pythainlp-data/thai2vec.bin\n",
            "INFO:gensim.models.utils_any2vec:loaded (60001, 400) matrix from /Users/arthit/pythainlp-data/thai2vec.bin\n",
            "/usr/local/lib/python3.7/site-packages/gensim/matutils.py:737: FutureWarning: Conversion of the second argument of issubdtype from `int` to `np.signedinteger` is deprecated. In future, it will be treated as `np.int64 == np.dtype(int).type`.\n",
            "  if np.issubdtype(vec.dtype, np.int):\n"
          ],
          "name": "stderr"
        },
        {
          "output_type": "execute_result",
          "data": {
            "text/plain": [
              "0.99259853"
            ]
          },
          "metadata": {
            "tags": []
          },
          "execution_count": 41
        }
      ]
    },
    {
      "cell_type": "code",
      "metadata": {
        "id": "spB52S0ci2vy",
        "colab_type": "code",
        "colab": {},
        "outputId": "596662ce-c6d7-494d-9962-22efda429377"
      },
      "source": [
        "pythainlp.word_vector.doesnt_match([\"คน\", \"มนุษย์\", \"บุคคล\", \"เจ้าหน้าที่\", \"แมว\"])"
      ],
      "execution_count": 0,
      "outputs": [
        {
          "output_type": "stream",
          "text": [
            "INFO:gensim.models.keyedvectors:precomputing L2-norms of word weight vectors\n"
          ],
          "name": "stderr"
        },
        {
          "output_type": "execute_result",
          "data": {
            "text/plain": [
              "'แมว'"
            ]
          },
          "metadata": {
            "tags": []
          },
          "execution_count": 42
        }
      ]
    },
    {
      "cell_type": "markdown",
      "metadata": {
        "id": "tEVYTtT3i2v0",
        "colab_type": "text"
      },
      "source": [
        "## Number Spell Out"
      ]
    },
    {
      "cell_type": "code",
      "metadata": {
        "id": "d5alrq1Wi2v2",
        "colab_type": "code",
        "colab": {},
        "outputId": "4fff11d5-a6ee-45c5-de23-ed4641943969"
      },
      "source": [
        "from pythainlp.util import bahttext\n",
        "\n",
        "bahttext(1234567890123.45)"
      ],
      "execution_count": 0,
      "outputs": [
        {
          "output_type": "execute_result",
          "data": {
            "text/plain": [
              "'หนึ่งล้านสองแสนสามหมื่นสี่พันห้าร้อยหกสิบเจ็ดล้านแปดแสนเก้าหมื่นหนึ่งร้อยยี่สิบสามบาทสี่สิบห้าสตางค์'"
            ]
          },
          "metadata": {
            "tags": []
          },
          "execution_count": 43
        }
      ]
    },
    {
      "cell_type": "code",
      "metadata": {
        "id": "Do1b4q4Hi2v4",
        "colab_type": "code",
        "colab": {},
        "outputId": "617cd197-8073-469d-f9dc-a05e635b6698"
      },
      "source": [
        "# bahttext() will round the satang part\n",
        "bahttext(1.909)"
      ],
      "execution_count": 0,
      "outputs": [
        {
          "output_type": "execute_result",
          "data": {
            "text/plain": [
              "'หนึ่งบาทเก้าสิบเอ็ดสตางค์'"
            ]
          },
          "metadata": {
            "tags": []
          },
          "execution_count": 44
        }
      ]
    },
    {
      "cell_type": "code",
      "metadata": {
        "id": "-fPDWlUbi2v6",
        "colab_type": "code",
        "colab": {}
      },
      "source": [
        ""
      ],
      "execution_count": 0,
      "outputs": []
    }
  ]
}